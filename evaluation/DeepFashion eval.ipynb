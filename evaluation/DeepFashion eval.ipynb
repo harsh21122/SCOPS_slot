{
 "cells": [
  {
   "cell_type": "code",
   "execution_count": 1,
   "id": "271cc6a4",
   "metadata": {},
   "outputs": [],
   "source": [
    "import json\n",
    "import os.path as osp\n",
    "import sys\n",
    "from types import SimpleNamespace\n",
    "\n",
    "import numpy as np\n",
    "import torch\n",
    "import torch.nn.functional as F\n",
    "import torchvision.transforms as transforms\n",
    "from PIL import Image\n",
    "from sklearn.metrics import normalized_mutual_info_score\n",
    "from sklearn.metrics import pair_confusion_matrix\n",
    "from torch.utils.data import Dataset\n",
    "import matplotlib.pyplot as plt\n",
    "from tqdm import tqdm\n",
    "\n",
    "from models.model_factory import model_generator\n",
    "\n",
    "\n",
    "def pil_loader(path, type):\n",
    "    with open(path, 'rb') as f:\n",
    "        img = Image.open(f)\n",
    "        return img.convert(type)\n",
    "\n",
    "\n",
    "df_parts = np.array([[0, 0, 0],\n",
    "                     [0, 100, 0],\n",
    "                     [16, 78, 139],\n",
    "                     [50, 205, 50],\n",
    "                     [70, 130, 180],\n",
    "                     [127, 255, 212],\n",
    "                     [144, 238, 144],\n",
    "                     [211, 211, 211],\n",
    "                     [220, 220, 220],\n",
    "                     [245, 222, 179],\n",
    "                     [250, 235, 215],\n",
    "                     [255, 0, 0],\n",
    "                     [255, 140, 0],\n",
    "                     [255, 250, 205],\n",
    "                     [255, 250, 250],\n",
    "                     [255, 255, 0]], dtype=int)\n",
    "\n",
    "\n",
    "def adjusted_rand_score_overflow(labels_true, labels_pred):\n",
    "    (tn, fp), (fn, tp) = pair_confusion_matrix(labels_true, labels_pred)\n",
    "\n",
    "    # Special cases: empty data or full agreement\n",
    "    if fn == 0 and fp == 0:\n",
    "        return 1.0\n",
    "    (tn, fp), (fn, tp) = (tn / 1e8, fp / 1e8), (fn / 1e8, tp / 1e8)\n",
    "    return 2. * (tp * tn - fn * fp) / ((tp + fn) * (fn + tn) +\n",
    "                                       (tp + fp) * (fp + tn))\n",
    "\n",
    "class DF(Dataset):\n",
    "    def __init__(self, split, root='/tmp/datasets', transforms=None):\n",
    "        super().__init__()\n",
    "\n",
    "        self.root = root\n",
    "        self.split = split\n",
    "        self.transforms = transforms\n",
    "\n",
    "        self.image_dir = osp.join(self.root, 'DeepFashion/In-shop Clothes Retrieval Benchmark/')\n",
    "\n",
    "        if self.split == 'train':\n",
    "            self.files = self.only_file_names(json.load(open(f'{self.image_dir}/Anno/segmentation/DeepFashion_segmentation_train.json', 'r'))['images'])\n",
    "        elif self.split == 'test':\n",
    "            val_files = [f'{self.image_dir}/Anno/segmentation/{f}' for f in ['DeepFashion_segmentation_query.json', 'DeepFashion_segmentation_gallery.json']]\n",
    "            self.files = self.only_file_names(json.load(open(val_files[0], 'r'))['images']) + self.only_file_names(json.load(open(val_files[1], 'r'))['images'])\n",
    "        else:\n",
    "            raise ValueError(\"Invalid split name: {}\".format(self.split))\n",
    "        self.num_imgs = len(self.files)\n",
    "        print('%d images' % self.num_imgs)\n",
    "\n",
    "        sum_colors = df_parts.sum(1)\n",
    "        self.col2idx = -np.ones(sum_colors.max() + 1, dtype=np.uint8)\n",
    "        for i in range(sum_colors.shape[0]):\n",
    "            self.col2idx[sum_colors[i]] = i\n",
    "\n",
    "    @staticmethod\n",
    "    def only_file_names(lst):\n",
    "        return [e['file_name'] for e in lst]\n",
    "\n",
    "    def __getitem__(self, index):\n",
    "        path = self.files[index]\n",
    "        image = pil_loader(self.image_dir + '/Anno/segmentation/' + path, 'RGB')\n",
    "        seg = pil_loader(self.image_dir + '/Anno/segmentation/' + path.replace('.jpg', '_segment.png'), 'RGB')\n",
    "        seg = np.array(seg).astype(np.uint8)\n",
    "        seg = self.col2idx[seg.sum(2)]\n",
    "        assert -1 not in seg\n",
    "\n",
    "        mask = np.array(pil_loader(self.image_dir + '/supervisedlabels/' + path + '.png', 'L'))\n",
    "        image = self.transforms[0](image)\n",
    "        seg = self.transforms[1](Image.fromarray(seg))\n",
    "        mask = self.transforms[1](Image.fromarray(mask))\n",
    "        return {'path': path, 'image': image, 'mask': mask, 'seg': seg}\n",
    "\n",
    "    def __len__(self):\n",
    "        return len(self.files)\n",
    "\n",
    "\n",
    "\n",
    "\n",
    "class To_tensor():\n",
    "    def __call__(self, img):\n",
    "        img = np.array(img, np.float32, copy=False)\n",
    "        if len(img.shape) == 2:\n",
    "            img = np.expand_dims(img, 2)\n",
    "        img = torch.from_numpy(img)\n",
    "        img = img.permute((2, 0, 1)).contiguous()\n",
    "        return img\n",
    "\n",
    "from datasets import deepfashion\n",
    "import torch.nn as nn\n",
    "from torch.utils.data import DataLoader\n",
    "from datasets.lit_dataset import LitDataset\n",
    "def get_fg_nmi_ari(path, is_scops, num_parts=4, mask_type='sup_mask'):\n",
    "    opts = SimpleNamespace()\n",
    "    opts.input_size = 256\n",
    "    opts.split = 'test'\n",
    "    opts.unsup_mask = mask_type\n",
    "    opts.unsup_mask2 = False\n",
    "    opts.unsup_train = False\n",
    "    opts.model = \"DeepLab50_2branch\"\n",
    "    opts.dataset_root = '/work/subha/datasets/'\n",
    "    opts.single_class = None\n",
    "    opts.three_classes = None\n",
    "    opts.restore_from = 'None'\n",
    "    opts.num_parts = num_parts\n",
    "    opts.gpu = 0\n",
    "    test_dataset = deepfashion.DFDataset(opts)\n",
    "    test_loader = DataLoader(LitDataset(test_dataset), batch_size=8, shuffle=False, num_workers=5, drop_last=False)\n",
    "    interp = nn.Upsample(size=(opts.input_size, opts.input_size), mode='bilinear', align_corners=True)\n",
    "    model = model_generator(opts, add_bg_mask=is_scops)\n",
    "    model.load_state_dict(torch.load(path) if is_scops else torch.load(path)['model_state_dict'])\n",
    "    model.cuda()\n",
    "    model.eval()\n",
    " \n",
    "    gts = []\n",
    "    preds = []\n",
    "    for batch in tqdm(test_loader):\n",
    "        images_cpu = batch['img']\n",
    "        gt = batch['seg']\n",
    "        images = images_cpu.cuda(opts.gpu)\n",
    "        _, _, pred_low, _ = model(images)\n",
    "        pred = interp(pred_low)\n",
    "\n",
    "        pred_argmax = pred.argmax(dim=1)\n",
    "        gts.append(gt.type(torch.int8))\n",
    "        preds.append(pred_argmax.cpu().type(torch.int8))\n",
    "\n",
    "    gts = torch.cat(gts, 0).flatten()\n",
    "    preds = torch.cat(preds, 0).flatten()\n",
    "\n",
    "    preds = preds[gts != 0]\n",
    "    gts = gts[gts != 0]\n",
    "\n",
    "    fgari = adjusted_rand_score_overflow(preds, gts)*100\n",
    "    fgnmi = normalized_mutual_info_score(preds, gts)*100\n",
    "    return fgnmi, fgari\n",
    "\n",
    "def get_full_nmi_ari(data_loader, model, is_scops, gpu=0):\n",
    "    all_nmi_preds = []\n",
    "    all_nmi_preds_w_bg = []\n",
    "    all_nmi_gts = []\n",
    "    all_nmi_gts_w_bg = []\n",
    "\n",
    "    # iterating the data loader, landmarks shape: [N, num_landmarks, 4], column first\n",
    "    # bbox shape: [N, 5]\n",
    "    for i, batch in enumerate(tqdm(data_loader)):\n",
    "\n",
    "        with torch.no_grad():\n",
    "\n",
    "            seg = batch['seg']\n",
    "            fg_mask = batch['mask'].cuda(gpu)\n",
    "            images = batch['image'].cuda(gpu)\n",
    "            if is_scops:\n",
    "                # preprocessing from scops evaluation code\n",
    "                logit_w_bg = F.interpolate(model(images)[2], size=images.shape[-2:], mode='bilinear', align_corners=False)\n",
    "                logit_w_bg = torch.softmax(logit_w_bg, dim=1)\n",
    "                logit_w_bg /= logit_w_bg.max(dim=3, keepdim=True)[0].max(dim=2, keepdim=True)[0]\n",
    "                logit_w_bg[:,0,:,:] = 0.1\n",
    "                pred = logit_w_bg[:,1:].argmax(1, keepdim=True)\n",
    "                pred_w_bg = logit_w_bg.argmax(1, keepdim=True)\n",
    "            else:\n",
    "                pred = F.interpolate(model(images)[2], size=images.shape[-2:], mode='bilinear', align_corners=False).argmax(1, keepdim=True)\n",
    "                pred_w_bg = fg_mask * (pred + 1)\n",
    "                if i == 0:\n",
    "                    # print(seg.shape, pred.shape, pred_w_bg.shape)\n",
    "                    plt.imshow(seg.cpu().numpy().squeeze()*50)\n",
    "                    plt.show()\n",
    "                    plt.imshow(pred.cpu().numpy().squeeze()*50)\n",
    "                    plt.show()\n",
    "                    plt.imshow(pred_w_bg.cpu().numpy().squeeze()*50)\n",
    "                    plt.show()\n",
    "                    plt.imshow(fg_mask.cpu().numpy().squeeze())\n",
    "                    plt.show()\n",
    "\n",
    "\n",
    "            all_nmi_preds_w_bg.append(pred_w_bg.cpu().view(-1).numpy())\n",
    "            all_nmi_gts_w_bg.append(seg.type(torch.int8).cpu().view(-1).numpy())\n",
    "\n",
    "    all_nmi_preds_w_bg = np.concatenate(all_nmi_preds_w_bg, axis=0)\n",
    "    all_nmi_gts_w_bg = np.concatenate(all_nmi_gts_w_bg, axis=0)\n",
    "\n",
    "    nmi2 = normalized_mutual_info_score(all_nmi_gts_w_bg, all_nmi_preds_w_bg) * 100\n",
    "    ari2 = adjusted_rand_score_overflow(all_nmi_gts_w_bg, all_nmi_preds_w_bg) * 100\n",
    "    return nmi2, ari2\n",
    "\n",
    "\n",
    "def eval_df(path=None, is_scops=False, num_parts=4, req_label=1, image_size=256):\n",
    "    # define data transformation (no crop)\n",
    "    data_transforms = [transforms.Compose([\n",
    "        transforms.Resize(size=(image_size)),\n",
    "        To_tensor(),\n",
    "        transforms.Normalize(mean=(104.00698793, 116.66876762, 122.67891434), std=(1, 1, 1))\n",
    "    ]),\n",
    "        transforms.Compose([\n",
    "            transforms.Resize(size=(image_size)),\n",
    "            To_tensor()\n",
    "        ])]\n",
    "\n",
    "    # define dataset and loader\n",
    "    data = DF(split='test', transforms=data_transforms, root='../data')\n",
    "    loader = torch.utils.data.DataLoader(data, batch_size=1, shuffle=False, num_workers=0, pin_memory=False, drop_last=False)\n",
    "    args2 = SimpleNamespace(dataset_root='/work/subha/datasets/', use_lab=True, single_class=None,\n",
    "                            gpu=0, batch_size=6, input_size=image_size, split='test', model=\"DeepLab50_2branch\",\n",
    "                            num_parts=num_parts, num_classes=15, restore_from='None', unsup_mask=True)\n",
    "\n",
    "    model = model_generator(args2, add_bg_mask=is_scops)\n",
    "    model.load_state_dict(torch.load(path) if is_scops else torch.load(path)['model_state_dict'])\n",
    "    model.cuda()\n",
    "    model.eval()\n",
    "\n",
    "    full_nmi, full_ari = get_full_nmi_ari(loader, model, is_scops=is_scops)\n",
    "    fg_nmi, fg_ari = get_fg_nmi_ari(path, is_scops, num_parts=4, mask_type='sup')\n",
    "    return fg_nmi, fg_ari, full_nmi, full_ari\n"
   ]
  },
  {
   "cell_type": "code",
   "execution_count": 2,
   "id": "44885f10",
   "metadata": {
    "scrolled": false
   },
   "outputs": [
    {
     "name": "stdout",
     "output_type": "stream",
     "text": [
      "6922 images\n"
     ]
    },
    {
     "name": "stderr",
     "output_type": "stream",
     "text": [
      "\r",
      "  0%|                                                                                                                                                                                | 0/6922 [00:00<?, ?it/s]"
     ]
    },
    {
     "data": {
      "image/png": "[encoded data removed]",
      "text/plain": [
       "<Figure size 432x288 with 1 Axes>"
      ]
     },
     "metadata": {
      "needs_background": "light"
     },
     "output_type": "display_data"
    },
    {
     "data": {
      "image/png": "[encoded data removed]",
      "text/plain": [
       "<Figure size 432x288 with 1 Axes>"
      ]
     },
     "metadata": {
      "needs_background": "light"
     },
     "output_type": "display_data"
    },
    {
     "data": {
      "image/png": "[encoded data removed]",
      "text/plain": [
       "<Figure size 432x288 with 1 Axes>"
      ]
     },
     "metadata": {
      "needs_background": "light"
     },
     "output_type": "display_data"
    },
    {
     "data": {
      "image/png": "[encoded data removed]",
      "text/plain": [
       "<Figure size 432x288 with 1 Axes>"
      ]
     },
     "metadata": {
      "needs_background": "light"
     },
     "output_type": "display_data"
    },
    {
     "name": "stderr",
     "output_type": "stream",
     "text": [
      "100%|█████████████████████████████████████████████████████████████████████████████████████████████████████████████████████████████████████████████████████████████████████| 6922/6922 [14:26<00:00,  7.99it/s]\n"
     ]
    },
    {
     "name": "stdout",
     "output_type": "stream",
     "text": [
      "6922 images\n"
     ]
    },
    {
     "name": "stderr",
     "output_type": "stream",
     "text": [
      "100%|███████████████████████████████████████████████████████████████████████████████████████████████████████████████████████████████████████████████████████████████████████| 866/866 [02:51<00:00,  5.06it/s]\n"
     ]
    },
    {
     "name": "stdout",
     "output_type": "stream",
     "text": [
      "FG-NMI: 44.54 FG-ARI: 46.20 Full-NMI: 68.10 Full-ARI: 90.60\n"
     ]
    }
   ],
   "source": [
    "is_scops = False\n",
    "path = '../checkpoints/DeepFashion/model_100000.pth'\n",
    "fg_nmi, fg_ari, full_nmi, full_ari = eval_df(path=path, is_scops=is_scops)\n",
    "print(f'FG-NMI: {fg_nmi:2.2f} FG-ARI: {fg_ari:2.2f} Full-NMI: {full_nmi:2.2f} Full-ARI: {full_ari:2.2f}')"
   ]
  },
  {
   "cell_type": "code",
   "execution_count": null,
   "id": "8e0fcd66",
   "metadata": {},
   "outputs": [],
   "source": []
  }
 ],
 "metadata": {
  "kernelspec": {
   "display_name": "Python 3 (ipykernel)",
   "language": "python",
   "name": "python3"
  },
  "language_info": {
   "codemirror_mode": {
    "name": "ipython",
    "version": 3
   },
   "file_extension": ".py",
   "mimetype": "text/x-python",
   "name": "python",
   "nbconvert_exporter": "python",
   "pygments_lexer": "ipython3",
   "version": "3.8.11"
  }
 },
 "nbformat": 4,
 "nbformat_minor": 5
}
