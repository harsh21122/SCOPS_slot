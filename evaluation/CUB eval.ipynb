{
 "cells": [
  {
   "cell_type": "code",
   "execution_count": 1,
   "id": "98d90269",
   "metadata": {},
   "outputs": [],
   "source": [
    "# pytorch & misc\n",
    "import argparse\n",
    "from types import SimpleNamespace\n",
    "import os\n",
    "import numpy as np\n",
    "import torch\n",
    "import torch.nn.functional as F\n",
    "import torchvision.transforms as transforms\n",
    "from sklearn.linear_model import LinearRegression\n",
    "from sklearn.metrics import normalized_mutual_info_score, adjusted_rand_score\n",
    "from sklearn.preprocessing import StandardScaler\n",
    "\n",
    "# number of attributes and landmark annotations\n",
    "from tqdm import tqdm\n",
    "\n",
    "from datasets.cub200 import CUB200\n",
    "from models.model_factory import model_generator\n",
    "\n",
    "import matplotlib.pyplot as plt\n",
    "dataset_root='/Users/harsh/Thesis/Dataset'\n",
    "\n",
    "def color_map_test(N=256, normalized=False):\n",
    "    def bitget(byteval, idx):\n",
    "        return ((byteval & (1 << idx)) != 0)\n",
    "\n",
    "    dtype = 'float32' if normalized else 'uint8'\n",
    "    cmap = np.zeros((N, 3), dtype=dtype)\n",
    "    for i in range(N):\n",
    "        r = g = b = 0\n",
    "        c = i\n",
    "        for j in range(8):\n",
    "            r = r | (bitget(c, 0) << 7-j)\n",
    "            g = g | (bitget(c, 1) << 7-j)\n",
    "            b = b | (bitget(c, 2) << 7-j)\n",
    "            c = c >> 3\n",
    "\n",
    "        cmap[i] = np.array([r, g, b])\n",
    "\n",
    "    cmap = cmap/255 if normalized else cmap\n",
    "    return cmap\n",
    "\n",
    "def convert_mask_to_image(mask):\n",
    "    cmap = color_map_test()[:, np.newaxis, :]\n",
    "    target = np.array(mask)[:, :, np.newaxis]\n",
    "    new_im = np.dot(target == 0, cmap[0])\n",
    "    for i in range(1, cmap.shape[0]):\n",
    "        new_im += np.dot(target == i, cmap[i])\n",
    "    new_im = (new_im.astype(np.uint8))\n",
    "    return new_im\n",
    "\n",
    "def overlay(o_img, p_img):\n",
    "    overlay_img = (o_img * 0.8 +  p_img * 0.7).clip(0,255.0).astype(np.uint8)\n",
    "    return overlay_img"
   ]
  },
  {
   "cell_type": "code",
   "execution_count": 2,
   "id": "22a86d1b",
   "metadata": {},
   "outputs": [],
   "source": [
    "num_classes = 200\n",
    "num_landmarks = 15\n",
    "\n",
    "\n",
    "def cut_borders(inputs, masks, landmarks, bbox):\n",
    "    # row and col check, x means row num here\n",
    "    height = inputs.shape[2]\n",
    "    width = inputs.shape[3]\n",
    "\n",
    "    # calculate border width and height\n",
    "    border_h = height % 16\n",
    "    border_w = width % 16\n",
    "\n",
    "    # calculate the new shape\n",
    "    new_height = height - border_h\n",
    "    new_width = width - border_w\n",
    "\n",
    "    # cut the inputs\n",
    "    inputs_cropped = inputs[:, :, (border_h // 2):new_height + (border_h // 2), (border_w // 2):new_width + (border_w // 2)]\n",
    "    masks_cropped = masks[:, :, (border_h // 2):new_height + (border_h // 2), (border_w // 2):new_width + (border_w // 2)]\n",
    "\n",
    "    # transform the landmarks correspondingly\n",
    "    landmarks_cropped = landmarks.squeeze(0)\n",
    "    for i in range(num_landmarks):\n",
    "        if abs(landmarks_cropped[i][-1]) > 1e-5:\n",
    "            landmarks_cropped[i][-3] -= (border_w // 2)  # column shift\n",
    "            landmarks_cropped[i][-2] -= (border_h // 2)  # row shift\n",
    "\n",
    "            # remove the landmarks if unlucky (never really stepped in for test set of cub200)\n",
    "            if landmarks_cropped[i][-3] < 0 or landmarks_cropped[i][-3] >= new_width or \\\n",
    "                    landmarks_cropped[i][-2] < 0 or landmarks_cropped[i][-2] >= new_height:\n",
    "                landmarks_cropped[i][-3] = 0\n",
    "                landmarks_cropped[i][-2] = 0\n",
    "                landmarks_cropped[i][-1] = 0\n",
    "\n",
    "    landmarks_cropped = landmarks_cropped.unsqueeze(0)\n",
    "\n",
    "    # transform the bounding box correspondingly\n",
    "    bbox_cropped = bbox\n",
    "    bbox_cropped[0, 1] = bbox_cropped[0, 1] - (border_w // 2)\n",
    "    bbox_cropped[0, 2] = bbox_cropped[0, 2] - (border_h // 2)\n",
    "    bbox_cropped[0, 1].clamp_(min=0)\n",
    "    bbox_cropped[0, 2].clamp_(min=0)\n",
    "    bbox_cropped[0, 3].clamp_(max=new_width)\n",
    "    bbox_cropped[0, 4].clamp_(max=new_height)\n",
    "\n",
    "    return inputs_cropped, masks_cropped, landmarks_cropped, bbox_cropped\n",
    "\n",
    "\n",
    "def calc_center(assignment, num_parts):\n",
    "    # row and col check, x means row num here\n",
    "    batch_size = assignment.shape[0]\n",
    "    nparts = assignment.shape[1]\n",
    "    height = assignment.shape[2]\n",
    "    width = assignment.shape[3]\n",
    "\n",
    "    # assertions\n",
    "    assert nparts == num_parts\n",
    "\n",
    "    # generate the location map\n",
    "    col_map = torch.arange(1, width + 1).view(1, 1, 1, width).expand(batch_size, nparts, height, width).float().cuda()\n",
    "    row_map = torch.arange(1, height + 1).view(1, 1, height, 1).expand(batch_size, nparts, height, width).float().cuda()\n",
    "\n",
    "    # multiply the location map with the soft assignment map\n",
    "    col_weighted = (col_map * assignment).view(batch_size, nparts, -1)\n",
    "    row_weighted = (row_map * assignment).view(batch_size, nparts, -1)\n",
    "\n",
    "    # sum of assignment as the denominator\n",
    "    denominator = torch.sum(assignment.view(batch_size, nparts, -1), dim=2) + 1e-8\n",
    "\n",
    "    # calculate the weighted average of location maps as centers\n",
    "    col_mean = torch.sum(col_weighted, dim=2) / denominator\n",
    "    row_mean = torch.sum(row_weighted, dim=2) / denominator\n",
    "\n",
    "    # prepare the centers for return\n",
    "    col_centers = col_mean.unsqueeze(2)\n",
    "    row_centers = row_mean.unsqueeze(2)\n",
    "\n",
    "    # N * K * 1 -> N * K * 2 -> N * (K * 2)\n",
    "    centers = torch.cat([col_centers, row_centers], dim=2).view(batch_size, nparts * 2)\n",
    "\n",
    "    # # upsample to the image resolution (256, 256)\n",
    "    # centers = centers\n",
    "\n",
    "    return centers\n",
    "\n",
    "\n",
    "def create_centers(data_loader, model, num_parts, is_scops):\n",
    "    # tensor for collecting centers, labels, existence masks\n",
    "    centers_collection = []\n",
    "    annos_collection = []\n",
    "    masks_collection = []\n",
    "\n",
    "    # iterating the data loader, landmarks shape: [N, num_landmarks, 4], column first\n",
    "    # bbox shape: [N, 5]\n",
    "    for i, (input_raw, fg_mask_raw, _, landmarks_raw, bbox_raw) in enumerate(tqdm(data_loader)):\n",
    "\n",
    "        # to device\n",
    "        input_raw = input_raw.cuda()\n",
    "        landmarks_raw = landmarks_raw.cuda()\n",
    "        bbox_raw = bbox_raw.cuda()\n",
    "        fg_mask_raw = fg_mask_raw.cuda()\n",
    "\n",
    "        # cut the input and transform the landmark\n",
    "        inputs, fg_masks, landmarks_full, bbox = cut_borders(input_raw, fg_mask_raw, landmarks_raw, bbox_raw)\n",
    "\n",
    "        # gather the landmark annotations, center outputs and existence masks\n",
    "        with torch.no_grad():\n",
    "\n",
    "            # generate assignment map\n",
    "            if is_scops:\n",
    "                assignment = torch.softmax(F.interpolate(model(inputs)[2], size=inputs.shape[-2:], mode='bilinear'), dim=1)[:, 1:]\n",
    "            else:\n",
    "                assignment = torch.softmax(F.interpolate(model(inputs)[2], size=inputs.shape[-2:], mode='bilinear'), dim=1) * fg_masks\n",
    "\n",
    "            # calculate the center coordinates of shape [N, num_parts, 2]\n",
    "            centers = calc_center(assignment, num_parts)\n",
    "            centers = centers.contiguous().view(centers.shape[0], num_parts, 2)\n",
    "\n",
    "            # extract the landmark and existence mask, [N, num_landmarks, 2]\n",
    "            landmarks = landmarks_full[:, :, -3:-1]\n",
    "            masks = landmarks_full[:, :, -1].unsqueeze(2).expand_as(landmarks)\n",
    "\n",
    "            # normalize the coordinates with the bounding boxes\n",
    "            bbox = bbox.unsqueeze(2)\n",
    "            centers[:, :, 0] = (centers[:, :, 0] - bbox[:, 1]) / bbox[:, 3]\n",
    "            centers[:, :, 1] = (centers[:, :, 1] - bbox[:, 2]) / bbox[:, 4]\n",
    "            landmarks[:, :, 0] = (landmarks[:, :, 0] - bbox[:, 1]) / bbox[:, 3]\n",
    "            landmarks[:, :, 1] = (landmarks[:, :, 1] - bbox[:, 2]) / bbox[:, 4]\n",
    "\n",
    "            # collect the centers, annotations and masks\n",
    "            centers_collection.append(centers)\n",
    "            annos_collection.append(landmarks)\n",
    "            masks_collection.append(masks)\n",
    "\n",
    "    # list into tensors\n",
    "    centers_tensor = torch.cat(centers_collection, dim=0)\n",
    "    annos_tensor = torch.cat(annos_collection, dim=0)\n",
    "    masks_tensor = torch.cat(masks_collection, dim=0)\n",
    "\n",
    "    # reshape the tensors\n",
    "    centers_tensor = centers_tensor.contiguous().view(centers_tensor.shape[0], num_parts * 2)\n",
    "    annos_tensor = annos_tensor.contiguous().view(centers_tensor.shape[0], num_landmarks * 2)\n",
    "    masks_tensor = masks_tensor.contiguous().view(centers_tensor.shape[0], num_landmarks * 2)\n",
    "\n",
    "    return centers_tensor, annos_tensor, masks_tensor\n",
    "\n",
    "\n",
    "def L2_distance(prediction, annotation):\n",
    "    diff_sq = (prediction - annotation) * (prediction - annotation)\n",
    "    L2_dists = np.sqrt(np.sum(diff_sq, axis=2))\n",
    "    error = np.mean(L2_dists)\n",
    "    return error\n",
    "\n",
    "\n",
    "class To_tensor():\n",
    "    def __call__(self, img):\n",
    "        img = np.array(img, np.float32, copy=False)\n",
    "        if len(img.shape) == 2:\n",
    "            img = np.expand_dims(img, 2)\n",
    "        img = torch.from_numpy(img)\n",
    "        img = img.permute((2, 0, 1)).contiguous()\n",
    "        return img\n",
    "\n",
    "\n",
    "def get_nmi_inputs(data_loader, model, num_parts, is_scops):\n",
    "\n",
    "    all_nmi_preds = []\n",
    "    all_nmi_preds_w_bg = []\n",
    "    all_nmi_gts = []\n",
    "\n",
    "    # iterating the data loader, landmarks shape: [N, num_landmarks, 4], column first\n",
    "    # bbox shape: [N, 5]\n",
    "    for i, (input_raw, fg_mask_raw, _, landmarks_raw, bbox_raw) in enumerate(tqdm(data_loader)):\n",
    "\n",
    "        # to device\n",
    "        input_raw = input_raw.cuda()\n",
    "        landmarks_raw = landmarks_raw.cuda()\n",
    "        bbox_raw = bbox_raw.cuda()\n",
    "        fg_mask_raw = fg_mask_raw.cuda()\n",
    "\n",
    "        # cut the input and transform the landmark\n",
    "        inputs, fg_masks, landmarks_full, bbox = cut_borders(input_raw, fg_mask_raw, landmarks_raw, bbox_raw)\n",
    "\n",
    "        with torch.no_grad():\n",
    "\n",
    "            # generate assignment map\n",
    "            if is_scops:\n",
    "                part_name_mat = F.interpolate(model(inputs)[2], size=inputs.shape[-2:], mode='bilinear', align_corners=False)[:, 1:]\n",
    "                part_name_mat_w_bg = F.interpolate(model(inputs)[2], size=inputs.shape[-2:], mode='bilinear', align_corners=False)\n",
    "            else:\n",
    "                part_name_mat = F.interpolate(model(inputs)[2], size=inputs.shape[-2:], mode='bilinear', align_corners=False)\n",
    "                part_name_mat_w_bg = torch.cat([1-fg_masks,\n",
    "                                                fg_masks*torch.softmax(F.interpolate(model(inputs)[2], size=inputs.shape[-2:], mode='bilinear', align_corners=False), dim=1)\n",
    "                                                ], dim=1)\n",
    "            if i == 1000:\n",
    "                plt.imshow(inputs.permute(0,2,3,1).cpu().numpy().squeeze())\n",
    "                plt.show()\n",
    "                plt.imshow(fg_masks.cpu().numpy().squeeze()*50)\n",
    "                plt.show()\n",
    "                plt.imshow(part_name_mat_w_bg.argmax(1).cpu().numpy().squeeze())\n",
    "    #                 plt.show()\n",
    "    #                 print(landmarks_full.shape)\n",
    "                plt.scatter(landmarks_full[0, :, 1].detach().cpu(), landmarks_full[0, :, 2].detach().cpu(), color='red')\n",
    "                plt.show()\n",
    "\n",
    "\n",
    "            # extract the landmark and existence mask, [N, num_landmarks, 2]\n",
    "            visible = landmarks_full[:, :, 3] > 0.5\n",
    "            points = landmarks_full[:, :, 1:3].unsqueeze(2).clone()\n",
    "\n",
    "            points[:, :, :, 0] /= inputs.shape[-1]  # W\n",
    "            points[:, :, :, 1] /= inputs.shape[-2]  # H\n",
    "            assert points.min() > -1e-7 and points.max() < 1+1e-7\n",
    "            points = points * 2 - 1\n",
    "\n",
    "            pred_parts_loc = F.grid_sample(part_name_mat.float(), points, mode='nearest', align_corners=False)\n",
    "            pred_parts_loc = torch.argmax(pred_parts_loc, dim=1).squeeze(2)\n",
    "            pred_parts_loc = pred_parts_loc[visible]\n",
    "            all_nmi_preds.append(pred_parts_loc.cpu().numpy())\n",
    "\n",
    "            pred_parts_loc_w_bg = F.grid_sample(part_name_mat_w_bg.float(), points, mode='nearest', align_corners=False)\n",
    "            pred_parts_loc_w_bg = torch.argmax(pred_parts_loc_w_bg, dim=1).squeeze(2)\n",
    "            pred_parts_loc_w_bg = pred_parts_loc_w_bg[visible]\n",
    "            all_nmi_preds_w_bg.append(pred_parts_loc_w_bg.cpu().numpy())\n",
    "\n",
    "            gt_parts_loc = torch.arange(landmarks_full.shape[1]).unsqueeze(0).repeat(landmarks_full.shape[0], 1)\n",
    "            gt_parts_loc = gt_parts_loc[visible]\n",
    "            all_nmi_gts.append(gt_parts_loc.cpu().numpy())\n",
    "\n",
    "\n",
    "    all_nmi_preds = np.concatenate(all_nmi_preds, axis=0)\n",
    "    all_nmi_preds_w_bg = np.concatenate(all_nmi_preds_w_bg, axis=0)\n",
    "    all_nmi_gts = np.concatenate(all_nmi_gts, axis=0)\n",
    "\n",
    "    return all_nmi_gts, all_nmi_preds, all_nmi_preds_w_bg\n",
    "\n",
    "\n",
    "def eval_all(path=None, is_full=False, is_scops=False, num_parts=4, only_three=False, req_label=1, mask_type='sup', image_size=256, regress_landmark=True):\n",
    "    # define data transformation (no crop)\n",
    "    data_transforms = [transforms.Compose([\n",
    "        transforms.Resize(size=(image_size)),\n",
    "        To_tensor(),\n",
    "        transforms.Normalize(mean=(104.00698793, 116.66876762, 122.67891434), std=(1, 1, 1))\n",
    "    ]),\n",
    "        transforms.Compose([\n",
    "            transforms.Resize(size=(image_size)),\n",
    "            To_tensor()\n",
    "        ])]\n",
    "    # define dataset and loader\n",
    "    fit_data = CUB200(root=f'{dataset_root}/', train=True, transform=data_transforms, \n",
    "                      resize=image_size, three_classes=only_three, mask_type=mask_type, crop_to_bbox=not is_full)\n",
    "    eval_data = CUB200(root=f'{dataset_root}/', train=False, transform=data_transforms, \n",
    "                       resize=image_size, three_classes=only_three, req_label=req_label, \n",
    "                       mask_type=mask_type, crop_to_bbox=not is_full)\n",
    "    fit_loader = torch.utils.data.DataLoader(fit_data, batch_size=1, shuffle=False, num_workers=0, pin_memory=False, drop_last=False)\n",
    "    eval_loader = torch.utils.data.DataLoader(eval_data, batch_size=1, shuffle=False, num_workers=0, pin_memory=False, drop_last=False)\n",
    "    args2 = SimpleNamespace(dataset_root=dataset_root, use_lab=True, single_class=None,\n",
    "                            gpu=0, batch_size=6, input_size=image_size, split='test', model=\"DeepLab50_2branch\",\n",
    "                            num_parts=num_parts, num_classes=15, restore_from='None', unsup_mask=True)\n",
    "    \n",
    "    print(len(fit_loader), len(eval_loader))\n",
    "    args2.model = 'DeepLab50_2branch'\n",
    "    model = model_generator(args2, add_bg_mask=is_scops)\n",
    "    print(model.load_state_dict(torch.load(path) if is_scops else torch.load(path)[\"model_state_dict\"], strict=False))\n",
    "    model.cuda()\n",
    "    model.eval()\n",
    "\n",
    "    nmi_gts, nmi_preds, nmi_preds_w_bg = get_nmi_inputs(eval_loader, model, args2.num_parts, is_scops=is_scops)\n",
    "    print(np.unique(nmi_gts), np.unique(nmi_preds), np.unique(nmi_preds_w_bg))\n",
    "    if is_full:\n",
    "        nmi = normalized_mutual_info_score(nmi_gts, nmi_preds_w_bg) * 100\n",
    "        ari = adjusted_rand_score(nmi_gts, nmi_preds_w_bg) * 100\n",
    "    else:\n",
    "        nmi = normalized_mutual_info_score(nmi_gts, nmi_preds) * 100\n",
    "        ari = adjusted_rand_score(nmi_gts, nmi_preds_w_bg) * 100\n",
    "    return nmi, ari"
   ]
  },
  {
   "cell_type": "code",
   "execution_count": null,
   "id": "5d7bafc8",
   "metadata": {},
   "outputs": [],
   "source": []
  },
  {
   "cell_type": "code",
   "execution_count": null,
   "id": "edf91388",
   "metadata": {},
   "outputs": [],
   "source": []
  },
  {
   "cell_type": "code",
   "execution_count": 3,
   "id": "75db2032",
   "metadata": {
    "scrolled": false
   },
   "outputs": [],
   "source": [
    "is_scops = False\n",
    "path = '../checkpoints/CUB/model_60000.pth'\n",
    "is_full=False\n",
    "only_three=False\n",
    "req_label=None\n",
    "regress_landmark=False\n",
    "mask_type='sup'\n",
    "image_size=256\n",
    "num_parts=4"
   ]
  },
  {
   "cell_type": "code",
   "execution_count": 4,
   "id": "64fda0c7",
   "metadata": {},
   "outputs": [
    {
     "name": "stdout",
     "output_type": "stream",
     "text": [
      "0 178\n"
     ]
    }
   ],
   "source": [
    "data_transforms = [transforms.Compose([\n",
    "        transforms.Resize(size=(256, 256)),\n",
    "        To_tensor(),\n",
    "        transforms.Normalize(mean=(104.00698793, 116.66876762, 122.67891434), std=(1, 1, 1))\n",
    "    ]),\n",
    "        transforms.Compose([\n",
    "            transforms.Resize(size=(256, 256)),\n",
    "            To_tensor()\n",
    "        ])]\n",
    "    # define dataset and loader\n",
    "fit_data = CUB200(root=f'{dataset_root}/', train=True, transform=data_transforms, \n",
    "                      resize=image_size, three_classes=only_three, mask_type=mask_type, crop_to_bbox=not is_full)\n",
    "eval_data = CUB200(root=f'{dataset_root}/', train=False, transform=data_transforms, \n",
    "                       resize=image_size, three_classes=only_three, req_label=req_label, \n",
    "                       mask_type=mask_type, crop_to_bbox=not is_full)\n",
    "fit_loader = torch.utils.data.DataLoader(fit_data, batch_size=1, shuffle=False, num_workers=0, pin_memory=False, drop_last=False)\n",
    "eval_loader = torch.utils.data.DataLoader(eval_data, batch_size=1, shuffle=False, num_workers=0, pin_memory=False, drop_last=False)\n",
    "args2 = SimpleNamespace(dataset_root=dataset_root, use_lab=True, single_class=None,\n",
    "                            gpu=0, batch_size=6, input_size=image_size, split='test', model=\"DeepLab50_2branch\",\n",
    "                            num_parts=num_parts, num_classes=15, restore_from='None', unsup_mask=True)\n",
    "    \n",
    "print(len(fit_loader), len(eval_loader))"
   ]
  },
  {
   "cell_type": "code",
   "execution_count": 5,
   "id": "c6baef8f",
   "metadata": {},
   "outputs": [
    {
     "name": "stdout",
     "output_type": "stream",
     "text": [
      "<All keys matched successfully>\n"
     ]
    },
    {
     "data": {
      "text/plain": [
       "ResNet(\n",
       "  (conv1): Conv2d(3, 64, kernel_size=(7, 7), stride=(2, 2), padding=(3, 3), bias=False)\n",
       "  (bn1): BatchNorm2d(64, eps=1e-05, momentum=0.1, affine=True, track_running_stats=True)\n",
       "  (relu): ReLU(inplace=True)\n",
       "  (maxpool): MaxPool2d(kernel_size=3, stride=2, padding=1, dilation=1, ceil_mode=True)\n",
       "  (layer1): Sequential(\n",
       "    (0): Bottleneck(\n",
       "      (conv1): Conv2d(64, 64, kernel_size=(1, 1), stride=(1, 1), bias=False)\n",
       "      (bn1): BatchNorm2d(64, eps=1e-05, momentum=0.1, affine=True, track_running_stats=True)\n",
       "      (conv2): Conv2d(64, 64, kernel_size=(3, 3), stride=(1, 1), padding=(1, 1), bias=False)\n",
       "      (bn2): BatchNorm2d(64, eps=1e-05, momentum=0.1, affine=True, track_running_stats=True)\n",
       "      (conv3): Conv2d(64, 256, kernel_size=(1, 1), stride=(1, 1), bias=False)\n",
       "      (bn3): BatchNorm2d(256, eps=1e-05, momentum=0.1, affine=True, track_running_stats=True)\n",
       "      (relu): ReLU(inplace=True)\n",
       "      (downsample): Sequential(\n",
       "        (0): Conv2d(64, 256, kernel_size=(1, 1), stride=(1, 1), bias=False)\n",
       "        (1): BatchNorm2d(256, eps=1e-05, momentum=0.1, affine=True, track_running_stats=True)\n",
       "      )\n",
       "    )\n",
       "    (1): Bottleneck(\n",
       "      (conv1): Conv2d(256, 64, kernel_size=(1, 1), stride=(1, 1), bias=False)\n",
       "      (bn1): BatchNorm2d(64, eps=1e-05, momentum=0.1, affine=True, track_running_stats=True)\n",
       "      (conv2): Conv2d(64, 64, kernel_size=(3, 3), stride=(1, 1), padding=(1, 1), bias=False)\n",
       "      (bn2): BatchNorm2d(64, eps=1e-05, momentum=0.1, affine=True, track_running_stats=True)\n",
       "      (conv3): Conv2d(64, 256, kernel_size=(1, 1), stride=(1, 1), bias=False)\n",
       "      (bn3): BatchNorm2d(256, eps=1e-05, momentum=0.1, affine=True, track_running_stats=True)\n",
       "      (relu): ReLU(inplace=True)\n",
       "    )\n",
       "    (2): Bottleneck(\n",
       "      (conv1): Conv2d(256, 64, kernel_size=(1, 1), stride=(1, 1), bias=False)\n",
       "      (bn1): BatchNorm2d(64, eps=1e-05, momentum=0.1, affine=True, track_running_stats=True)\n",
       "      (conv2): Conv2d(64, 64, kernel_size=(3, 3), stride=(1, 1), padding=(1, 1), bias=False)\n",
       "      (bn2): BatchNorm2d(64, eps=1e-05, momentum=0.1, affine=True, track_running_stats=True)\n",
       "      (conv3): Conv2d(64, 256, kernel_size=(1, 1), stride=(1, 1), bias=False)\n",
       "      (bn3): BatchNorm2d(256, eps=1e-05, momentum=0.1, affine=True, track_running_stats=True)\n",
       "      (relu): ReLU(inplace=True)\n",
       "    )\n",
       "  )\n",
       "  (layer2): Sequential(\n",
       "    (0): Bottleneck(\n",
       "      (conv1): Conv2d(256, 128, kernel_size=(1, 1), stride=(2, 2), bias=False)\n",
       "      (bn1): BatchNorm2d(128, eps=1e-05, momentum=0.1, affine=True, track_running_stats=True)\n",
       "      (conv2): Conv2d(128, 128, kernel_size=(3, 3), stride=(1, 1), padding=(1, 1), bias=False)\n",
       "      (bn2): BatchNorm2d(128, eps=1e-05, momentum=0.1, affine=True, track_running_stats=True)\n",
       "      (conv3): Conv2d(128, 512, kernel_size=(1, 1), stride=(1, 1), bias=False)\n",
       "      (bn3): BatchNorm2d(512, eps=1e-05, momentum=0.1, affine=True, track_running_stats=True)\n",
       "      (relu): ReLU(inplace=True)\n",
       "      (downsample): Sequential(\n",
       "        (0): Conv2d(256, 512, kernel_size=(1, 1), stride=(2, 2), bias=False)\n",
       "        (1): BatchNorm2d(512, eps=1e-05, momentum=0.1, affine=True, track_running_stats=True)\n",
       "      )\n",
       "    )\n",
       "    (1): Bottleneck(\n",
       "      (conv1): Conv2d(512, 128, kernel_size=(1, 1), stride=(1, 1), bias=False)\n",
       "      (bn1): BatchNorm2d(128, eps=1e-05, momentum=0.1, affine=True, track_running_stats=True)\n",
       "      (conv2): Conv2d(128, 128, kernel_size=(3, 3), stride=(1, 1), padding=(1, 1), bias=False)\n",
       "      (bn2): BatchNorm2d(128, eps=1e-05, momentum=0.1, affine=True, track_running_stats=True)\n",
       "      (conv3): Conv2d(128, 512, kernel_size=(1, 1), stride=(1, 1), bias=False)\n",
       "      (bn3): BatchNorm2d(512, eps=1e-05, momentum=0.1, affine=True, track_running_stats=True)\n",
       "      (relu): ReLU(inplace=True)\n",
       "    )\n",
       "    (2): Bottleneck(\n",
       "      (conv1): Conv2d(512, 128, kernel_size=(1, 1), stride=(1, 1), bias=False)\n",
       "      (bn1): BatchNorm2d(128, eps=1e-05, momentum=0.1, affine=True, track_running_stats=True)\n",
       "      (conv2): Conv2d(128, 128, kernel_size=(3, 3), stride=(1, 1), padding=(1, 1), bias=False)\n",
       "      (bn2): BatchNorm2d(128, eps=1e-05, momentum=0.1, affine=True, track_running_stats=True)\n",
       "      (conv3): Conv2d(128, 512, kernel_size=(1, 1), stride=(1, 1), bias=False)\n",
       "      (bn3): BatchNorm2d(512, eps=1e-05, momentum=0.1, affine=True, track_running_stats=True)\n",
       "      (relu): ReLU(inplace=True)\n",
       "    )\n",
       "    (3): Bottleneck(\n",
       "      (conv1): Conv2d(512, 128, kernel_size=(1, 1), stride=(1, 1), bias=False)\n",
       "      (bn1): BatchNorm2d(128, eps=1e-05, momentum=0.1, affine=True, track_running_stats=True)\n",
       "      (conv2): Conv2d(128, 128, kernel_size=(3, 3), stride=(1, 1), padding=(1, 1), bias=False)\n",
       "      (bn2): BatchNorm2d(128, eps=1e-05, momentum=0.1, affine=True, track_running_stats=True)\n",
       "      (conv3): Conv2d(128, 512, kernel_size=(1, 1), stride=(1, 1), bias=False)\n",
       "      (bn3): BatchNorm2d(512, eps=1e-05, momentum=0.1, affine=True, track_running_stats=True)\n",
       "      (relu): ReLU(inplace=True)\n",
       "    )\n",
       "  )\n",
       "  (layer3): Sequential(\n",
       "    (0): Bottleneck(\n",
       "      (conv1): Conv2d(512, 256, kernel_size=(1, 1), stride=(1, 1), bias=False)\n",
       "      (bn1): BatchNorm2d(256, eps=1e-05, momentum=0.1, affine=True, track_running_stats=True)\n",
       "      (conv2): Conv2d(256, 256, kernel_size=(3, 3), stride=(1, 1), padding=(2, 2), dilation=(2, 2), bias=False)\n",
       "      (bn2): BatchNorm2d(256, eps=1e-05, momentum=0.1, affine=True, track_running_stats=True)\n",
       "      (conv3): Conv2d(256, 1024, kernel_size=(1, 1), stride=(1, 1), bias=False)\n",
       "      (bn3): BatchNorm2d(1024, eps=1e-05, momentum=0.1, affine=True, track_running_stats=True)\n",
       "      (relu): ReLU(inplace=True)\n",
       "      (downsample): Sequential(\n",
       "        (0): Conv2d(512, 1024, kernel_size=(1, 1), stride=(1, 1), bias=False)\n",
       "        (1): BatchNorm2d(1024, eps=1e-05, momentum=0.1, affine=True, track_running_stats=True)\n",
       "      )\n",
       "    )\n",
       "    (1): Bottleneck(\n",
       "      (conv1): Conv2d(1024, 256, kernel_size=(1, 1), stride=(1, 1), bias=False)\n",
       "      (bn1): BatchNorm2d(256, eps=1e-05, momentum=0.1, affine=True, track_running_stats=True)\n",
       "      (conv2): Conv2d(256, 256, kernel_size=(3, 3), stride=(1, 1), padding=(2, 2), dilation=(2, 2), bias=False)\n",
       "      (bn2): BatchNorm2d(256, eps=1e-05, momentum=0.1, affine=True, track_running_stats=True)\n",
       "      (conv3): Conv2d(256, 1024, kernel_size=(1, 1), stride=(1, 1), bias=False)\n",
       "      (bn3): BatchNorm2d(1024, eps=1e-05, momentum=0.1, affine=True, track_running_stats=True)\n",
       "      (relu): ReLU(inplace=True)\n",
       "    )\n",
       "    (2): Bottleneck(\n",
       "      (conv1): Conv2d(1024, 256, kernel_size=(1, 1), stride=(1, 1), bias=False)\n",
       "      (bn1): BatchNorm2d(256, eps=1e-05, momentum=0.1, affine=True, track_running_stats=True)\n",
       "      (conv2): Conv2d(256, 256, kernel_size=(3, 3), stride=(1, 1), padding=(2, 2), dilation=(2, 2), bias=False)\n",
       "      (bn2): BatchNorm2d(256, eps=1e-05, momentum=0.1, affine=True, track_running_stats=True)\n",
       "      (conv3): Conv2d(256, 1024, kernel_size=(1, 1), stride=(1, 1), bias=False)\n",
       "      (bn3): BatchNorm2d(1024, eps=1e-05, momentum=0.1, affine=True, track_running_stats=True)\n",
       "      (relu): ReLU(inplace=True)\n",
       "    )\n",
       "    (3): Bottleneck(\n",
       "      (conv1): Conv2d(1024, 256, kernel_size=(1, 1), stride=(1, 1), bias=False)\n",
       "      (bn1): BatchNorm2d(256, eps=1e-05, momentum=0.1, affine=True, track_running_stats=True)\n",
       "      (conv2): Conv2d(256, 256, kernel_size=(3, 3), stride=(1, 1), padding=(2, 2), dilation=(2, 2), bias=False)\n",
       "      (bn2): BatchNorm2d(256, eps=1e-05, momentum=0.1, affine=True, track_running_stats=True)\n",
       "      (conv3): Conv2d(256, 1024, kernel_size=(1, 1), stride=(1, 1), bias=False)\n",
       "      (bn3): BatchNorm2d(1024, eps=1e-05, momentum=0.1, affine=True, track_running_stats=True)\n",
       "      (relu): ReLU(inplace=True)\n",
       "    )\n",
       "    (4): Bottleneck(\n",
       "      (conv1): Conv2d(1024, 256, kernel_size=(1, 1), stride=(1, 1), bias=False)\n",
       "      (bn1): BatchNorm2d(256, eps=1e-05, momentum=0.1, affine=True, track_running_stats=True)\n",
       "      (conv2): Conv2d(256, 256, kernel_size=(3, 3), stride=(1, 1), padding=(2, 2), dilation=(2, 2), bias=False)\n",
       "      (bn2): BatchNorm2d(256, eps=1e-05, momentum=0.1, affine=True, track_running_stats=True)\n",
       "      (conv3): Conv2d(256, 1024, kernel_size=(1, 1), stride=(1, 1), bias=False)\n",
       "      (bn3): BatchNorm2d(1024, eps=1e-05, momentum=0.1, affine=True, track_running_stats=True)\n",
       "      (relu): ReLU(inplace=True)\n",
       "    )\n",
       "    (5): Bottleneck(\n",
       "      (conv1): Conv2d(1024, 256, kernel_size=(1, 1), stride=(1, 1), bias=False)\n",
       "      (bn1): BatchNorm2d(256, eps=1e-05, momentum=0.1, affine=True, track_running_stats=True)\n",
       "      (conv2): Conv2d(256, 256, kernel_size=(3, 3), stride=(1, 1), padding=(2, 2), dilation=(2, 2), bias=False)\n",
       "      (bn2): BatchNorm2d(256, eps=1e-05, momentum=0.1, affine=True, track_running_stats=True)\n",
       "      (conv3): Conv2d(256, 1024, kernel_size=(1, 1), stride=(1, 1), bias=False)\n",
       "      (bn3): BatchNorm2d(1024, eps=1e-05, momentum=0.1, affine=True, track_running_stats=True)\n",
       "      (relu): ReLU(inplace=True)\n",
       "    )\n",
       "  )\n",
       "  (layer4): Sequential(\n",
       "    (0): Bottleneck(\n",
       "      (conv1): Conv2d(1024, 512, kernel_size=(1, 1), stride=(1, 1), bias=False)\n",
       "      (bn1): BatchNorm2d(512, eps=1e-05, momentum=0.1, affine=True, track_running_stats=True)\n",
       "      (conv2): Conv2d(512, 512, kernel_size=(3, 3), stride=(1, 1), padding=(4, 4), dilation=(4, 4), bias=False)\n",
       "      (bn2): BatchNorm2d(512, eps=1e-05, momentum=0.1, affine=True, track_running_stats=True)\n",
       "      (conv3): Conv2d(512, 2048, kernel_size=(1, 1), stride=(1, 1), bias=False)\n",
       "      (bn3): BatchNorm2d(2048, eps=1e-05, momentum=0.1, affine=True, track_running_stats=True)\n",
       "      (relu): ReLU(inplace=True)\n",
       "      (downsample): Sequential(\n",
       "        (0): Conv2d(1024, 2048, kernel_size=(1, 1), stride=(1, 1), bias=False)\n",
       "        (1): BatchNorm2d(2048, eps=1e-05, momentum=0.1, affine=True, track_running_stats=True)\n",
       "      )\n",
       "    )\n",
       "    (1): Bottleneck(\n",
       "      (conv1): Conv2d(2048, 512, kernel_size=(1, 1), stride=(1, 1), bias=False)\n",
       "      (bn1): BatchNorm2d(512, eps=1e-05, momentum=0.1, affine=True, track_running_stats=True)\n",
       "      (conv2): Conv2d(512, 512, kernel_size=(3, 3), stride=(1, 1), padding=(4, 4), dilation=(4, 4), bias=False)\n",
       "      (bn2): BatchNorm2d(512, eps=1e-05, momentum=0.1, affine=True, track_running_stats=True)\n",
       "      (conv3): Conv2d(512, 2048, kernel_size=(1, 1), stride=(1, 1), bias=False)\n",
       "      (bn3): BatchNorm2d(2048, eps=1e-05, momentum=0.1, affine=True, track_running_stats=True)\n",
       "      (relu): ReLU(inplace=True)\n",
       "    )\n",
       "    (2): Bottleneck(\n",
       "      (conv1): Conv2d(2048, 512, kernel_size=(1, 1), stride=(1, 1), bias=False)\n",
       "      (bn1): BatchNorm2d(512, eps=1e-05, momentum=0.1, affine=True, track_running_stats=True)\n",
       "      (conv2): Conv2d(512, 512, kernel_size=(3, 3), stride=(1, 1), padding=(4, 4), dilation=(4, 4), bias=False)\n",
       "      (bn2): BatchNorm2d(512, eps=1e-05, momentum=0.1, affine=True, track_running_stats=True)\n",
       "      (conv3): Conv2d(512, 2048, kernel_size=(1, 1), stride=(1, 1), bias=False)\n",
       "      (bn3): BatchNorm2d(2048, eps=1e-05, momentum=0.1, affine=True, track_running_stats=True)\n",
       "      (relu): ReLU(inplace=True)\n",
       "    )\n",
       "  )\n",
       "  (layer5): Classifier_Module(\n",
       "    (conv2d_list): ModuleList(\n",
       "      (0): Conv2d(1024, 4, kernel_size=(3, 3), stride=(1, 1), padding=(6, 6), dilation=(6, 6))\n",
       "      (1): Conv2d(1024, 4, kernel_size=(3, 3), stride=(1, 1), padding=(12, 12), dilation=(12, 12))\n",
       "      (2): Conv2d(1024, 4, kernel_size=(3, 3), stride=(1, 1), padding=(18, 18), dilation=(18, 18))\n",
       "      (3): Conv2d(1024, 4, kernel_size=(3, 3), stride=(1, 1), padding=(24, 24), dilation=(24, 24))\n",
       "    )\n",
       "  )\n",
       ")"
      ]
     },
     "execution_count": 5,
     "metadata": {},
     "output_type": "execute_result"
    }
   ],
   "source": [
    "args2.model = 'DeepLab50_2branch'\n",
    "model = model_generator(args2, add_bg_mask=is_scops)\n",
    "print(model.load_state_dict(torch.load(path) if is_scops else torch.load(path, map_location=torch.device('cpu'))[\"model_state_dict\"], strict=False))\n",
    "# model.cuda()\n",
    "model.eval()"
   ]
  },
  {
   "cell_type": "code",
   "execution_count": 13,
   "id": "e43204dc",
   "metadata": {},
   "outputs": [
    {
     "name": "stderr",
     "output_type": "stream",
     "text": [
      "  1%|▏                                          | 1/178 [00:02<08:24,  2.85s/it]"
     ]
    },
    {
     "name": "stdout",
     "output_type": "stream",
     "text": [
      "(256, 256) [0 1 2 3 4] 001.Black_footed_Albatross Black_Footed_Albatross_0046_18\n"
     ]
    },
    {
     "name": "stderr",
     "output_type": "stream",
     "text": [
      "\r",
      "  1%|▍                                          | 2/178 [00:05<08:10,  2.79s/it]"
     ]
    },
    {
     "name": "stdout",
     "output_type": "stream",
     "text": [
      "(256, 256) [0 1 2 3 4] 001.Black_footed_Albatross Black_Footed_Albatross_0009_34\n"
     ]
    },
    {
     "name": "stderr",
     "output_type": "stream",
     "text": [
      "\r",
      "  2%|▋                                          | 3/178 [00:08<08:04,  2.77s/it]"
     ]
    },
    {
     "name": "stdout",
     "output_type": "stream",
     "text": [
      "(256, 256) [0 1 2 3 4] 001.Black_footed_Albatross Black_Footed_Albatross_0002_55\n"
     ]
    },
    {
     "name": "stderr",
     "output_type": "stream",
     "text": [
      "\r",
      "  2%|▉                                          | 4/178 [00:11<08:03,  2.78s/it]"
     ]
    },
    {
     "name": "stdout",
     "output_type": "stream",
     "text": [
      "(256, 256) [0 1 2 3 4] 001.Black_footed_Albatross Black_Footed_Albatross_0074_59\n"
     ]
    },
    {
     "name": "stderr",
     "output_type": "stream",
     "text": [
      "\r",
      "  3%|█▏                                         | 5/178 [00:13<08:02,  2.79s/it]"
     ]
    },
    {
     "name": "stdout",
     "output_type": "stream",
     "text": [
      "(256, 256) [0 1 2 3 4] 001.Black_footed_Albatross Black_Footed_Albatross_0014_89\n"
     ]
    },
    {
     "name": "stderr",
     "output_type": "stream",
     "text": [
      "\r",
      "  3%|█▍                                         | 6/178 [00:16<08:07,  2.83s/it]"
     ]
    },
    {
     "name": "stdout",
     "output_type": "stream",
     "text": [
      "(256, 256) [0 1 2 3 4] 001.Black_footed_Albatross Black_Footed_Albatross_0085_92\n"
     ]
    },
    {
     "name": "stderr",
     "output_type": "stream",
     "text": [
      "\r",
      "  4%|█▋                                         | 7/178 [00:19<08:01,  2.82s/it]"
     ]
    },
    {
     "name": "stdout",
     "output_type": "stream",
     "text": [
      "(256, 256) [0 1 2 3 4] 001.Black_footed_Albatross Black_Footed_Albatross_0031_100\n"
     ]
    },
    {
     "name": "stderr",
     "output_type": "stream",
     "text": [
      "\r",
      "  4%|█▉                                         | 8/178 [00:22<07:56,  2.81s/it]"
     ]
    },
    {
     "name": "stdout",
     "output_type": "stream",
     "text": [
      "(256, 256) [0 1 2 3 4] 001.Black_footed_Albatross Black_Footed_Albatross_0051_796103\n"
     ]
    },
    {
     "name": "stderr",
     "output_type": "stream",
     "text": [
      "\r",
      "  5%|██▏                                        | 9/178 [00:25<07:58,  2.83s/it]"
     ]
    },
    {
     "name": "stdout",
     "output_type": "stream",
     "text": [
      "(256, 256) [0 1 3 4] 001.Black_footed_Albatross Black_Footed_Albatross_0010_796097\n"
     ]
    },
    {
     "name": "stderr",
     "output_type": "stream",
     "text": [
      "\r",
      "  6%|██▎                                       | 10/178 [00:28<07:56,  2.84s/it]"
     ]
    },
    {
     "name": "stdout",
     "output_type": "stream",
     "text": [
      "(256, 256) [0 1 2 3 4] 001.Black_footed_Albatross Black_Footed_Albatross_0025_796057\n"
     ]
    },
    {
     "name": "stderr",
     "output_type": "stream",
     "text": [
      "\r",
      "  6%|██▌                                       | 11/178 [00:30<07:49,  2.81s/it]"
     ]
    },
    {
     "name": "stdout",
     "output_type": "stream",
     "text": [
      "(256, 256) [0 1 2 3] 001.Black_footed_Albatross Black_Footed_Albatross_0023_796059\n"
     ]
    },
    {
     "name": "stderr",
     "output_type": "stream",
     "text": [
      "\r",
      "  7%|██▊                                       | 12/178 [00:33<07:45,  2.80s/it]"
     ]
    },
    {
     "name": "stdout",
     "output_type": "stream",
     "text": [
      "(256, 256) [0 1 2 3 4] 001.Black_footed_Albatross Black_Footed_Albatross_0086_796062\n"
     ]
    },
    {
     "name": "stderr",
     "output_type": "stream",
     "text": [
      "\r",
      "  7%|███                                       | 13/178 [00:36<08:01,  2.92s/it]"
     ]
    },
    {
     "name": "stdout",
     "output_type": "stream",
     "text": [
      "(256, 256) [0 1 2 3 4] 001.Black_footed_Albatross Black_Footed_Albatross_0049_796063\n"
     ]
    },
    {
     "name": "stderr",
     "output_type": "stream",
     "text": [
      "\r",
      "  8%|███▎                                      | 14/178 [00:39<07:54,  2.90s/it]"
     ]
    },
    {
     "name": "stdout",
     "output_type": "stream",
     "text": [
      "(256, 256) [0 1 2 3 4] 001.Black_footed_Albatross Black_Footed_Albatross_0006_796065\n"
     ]
    },
    {
     "name": "stderr",
     "output_type": "stream",
     "text": [
      "\r",
      "  8%|███▌                                      | 15/178 [00:42<07:48,  2.87s/it]"
     ]
    },
    {
     "name": "stdout",
     "output_type": "stream",
     "text": [
      "(256, 256) [0 1 2 3 4] 001.Black_footed_Albatross Black_Footed_Albatross_0040_796066\n"
     ]
    },
    {
     "name": "stderr",
     "output_type": "stream",
     "text": [
      "\r",
      "  9%|███▊                                      | 16/178 [00:45<07:43,  2.86s/it]"
     ]
    },
    {
     "name": "stdout",
     "output_type": "stream",
     "text": [
      "(256, 256) [0 1 2 3 4] 001.Black_footed_Albatross Black_Footed_Albatross_0016_796067\n"
     ]
    },
    {
     "name": "stderr",
     "output_type": "stream",
     "text": [
      "\r",
      " 10%|████                                      | 17/178 [00:48<07:38,  2.85s/it]"
     ]
    },
    {
     "name": "stdout",
     "output_type": "stream",
     "text": [
      "(256, 256) [0 1 2 3 4] 001.Black_footed_Albatross Black_Footed_Albatross_0065_796068\n"
     ]
    },
    {
     "name": "stderr",
     "output_type": "stream",
     "text": [
      "\r",
      " 10%|████▏                                     | 18/178 [00:51<07:33,  2.84s/it]"
     ]
    },
    {
     "name": "stdout",
     "output_type": "stream",
     "text": [
      "(256, 256) [0 1 2 3 4] 001.Black_footed_Albatross Black_Footed_Albatross_0089_796069\n"
     ]
    },
    {
     "name": "stderr",
     "output_type": "stream",
     "text": [
      "\r",
      " 11%|████▍                                     | 19/178 [00:53<07:38,  2.88s/it]"
     ]
    },
    {
     "name": "stdout",
     "output_type": "stream",
     "text": [
      "(256, 256) [0 1 2 3 4] 001.Black_footed_Albatross Black_Footed_Albatross_0042_796071\n"
     ]
    },
    {
     "name": "stderr",
     "output_type": "stream",
     "text": [
      "\r",
      " 11%|████▋                                     | 20/178 [00:56<07:30,  2.85s/it]"
     ]
    },
    {
     "name": "stdout",
     "output_type": "stream",
     "text": [
      "(256, 256) [0 1 2 3 4] 001.Black_footed_Albatross Black_Footed_Albatross_0067_170\n"
     ]
    },
    {
     "name": "stderr",
     "output_type": "stream",
     "text": [
      "\r",
      " 12%|████▉                                     | 21/178 [00:59<07:22,  2.82s/it]"
     ]
    },
    {
     "name": "stdout",
     "output_type": "stream",
     "text": [
      "(256, 256) [0 1 2 3 4] 001.Black_footed_Albatross Black_Footed_Albatross_0060_796076\n"
     ]
    },
    {
     "name": "stderr",
     "output_type": "stream",
     "text": [
      "\r",
      " 12%|█████▏                                    | 22/178 [01:02<07:19,  2.82s/it]"
     ]
    },
    {
     "name": "stdout",
     "output_type": "stream",
     "text": [
      "(256, 256) [0 1 2 3 4] 001.Black_footed_Albatross Black_Footed_Albatross_0090_796077\n"
     ]
    },
    {
     "name": "stderr",
     "output_type": "stream",
     "text": [
      "\r",
      " 13%|█████▍                                    | 23/178 [01:05<07:13,  2.80s/it]"
     ]
    },
    {
     "name": "stdout",
     "output_type": "stream",
     "text": [
      "(256, 256) [0 1 3 4] 001.Black_footed_Albatross Black_Footed_Albatross_0056_796078\n"
     ]
    },
    {
     "name": "stderr",
     "output_type": "stream",
     "text": [
      "\r",
      " 13%|█████▋                                    | 24/178 [01:07<07:08,  2.78s/it]"
     ]
    },
    {
     "name": "stdout",
     "output_type": "stream",
     "text": [
      "(256, 256) [0 1 2 3 4] 001.Black_footed_Albatross Black_Footed_Albatross_0061_796082\n"
     ]
    },
    {
     "name": "stderr",
     "output_type": "stream",
     "text": [
      "\r",
      " 14%|█████▉                                    | 25/178 [01:10<07:03,  2.77s/it]"
     ]
    },
    {
     "name": "stdout",
     "output_type": "stream",
     "text": [
      "(256, 256) [0 1 2 3 4] 001.Black_footed_Albatross Black_Footed_Albatross_0008_796083\n"
     ]
    },
    {
     "name": "stderr",
     "output_type": "stream",
     "text": [
      "\r",
      " 15%|██████▏                                   | 26/178 [01:13<07:00,  2.76s/it]"
     ]
    },
    {
     "name": "stdout",
     "output_type": "stream",
     "text": [
      "(256, 256) [0 1 2 3 4] 001.Black_footed_Albatross Black_Footed_Albatross_0033_796086\n"
     ]
    },
    {
     "name": "stderr",
     "output_type": "stream",
     "text": [
      "\r",
      " 15%|██████▎                                   | 27/178 [01:16<06:56,  2.76s/it]"
     ]
    },
    {
     "name": "stdout",
     "output_type": "stream",
     "text": [
      "(256, 256) [0 1 2 3 4] 001.Black_footed_Albatross Black_Footed_Albatross_0024_796089\n"
     ]
    },
    {
     "name": "stderr",
     "output_type": "stream",
     "text": [
      "\r",
      " 16%|██████▌                                   | 28/178 [01:18<06:53,  2.75s/it]"
     ]
    },
    {
     "name": "stdout",
     "output_type": "stream",
     "text": [
      "(256, 256) [0 1 2 3 4] 001.Black_footed_Albatross Black_Footed_Albatross_0005_796090\n"
     ]
    },
    {
     "name": "stderr",
     "output_type": "stream",
     "text": [
      "\r",
      " 16%|██████▊                                   | 29/178 [01:21<06:50,  2.75s/it]"
     ]
    },
    {
     "name": "stdout",
     "output_type": "stream",
     "text": [
      "(256, 256) [0 1 2 3 4] 001.Black_footed_Albatross Black_Footed_Albatross_0026_796095\n"
     ]
    },
    {
     "name": "stderr",
     "output_type": "stream",
     "text": [
      "\r",
      " 17%|███████                                   | 30/178 [01:24<06:47,  2.75s/it]"
     ]
    },
    {
     "name": "stdout",
     "output_type": "stream",
     "text": [
      "(256, 256) [0 1 2 3 4] 001.Black_footed_Albatross Black_Footed_Albatross_0080_796096\n"
     ]
    },
    {
     "name": "stderr",
     "output_type": "stream",
     "text": [
      "\r",
      " 17%|███████▎                                  | 31/178 [01:27<06:44,  2.75s/it]"
     ]
    },
    {
     "name": "stdout",
     "output_type": "stream",
     "text": [
      "(256, 256) [0 1 2 3 4] 001.Black_footed_Albatross Black_Footed_Albatross_0047_796064\n"
     ]
    },
    {
     "name": "stderr",
     "output_type": "stream",
     "text": [
      "\r",
      " 18%|███████▌                                  | 32/178 [01:29<06:43,  2.76s/it]"
     ]
    },
    {
     "name": "stdout",
     "output_type": "stream",
     "text": [
      "(256, 256) [0 1 2 3 4] 001.Black_footed_Albatross Black_Footed_Albatross_0017_796098\n"
     ]
    },
    {
     "name": "stderr",
     "output_type": "stream",
     "text": [
      "\r",
      " 19%|███████▊                                  | 33/178 [01:32<06:40,  2.76s/it]"
     ]
    },
    {
     "name": "stdout",
     "output_type": "stream",
     "text": [
      "(256, 256) [0 1 2 3 4] 001.Black_footed_Albatross Black_Footed_Albatross_0064_796101\n"
     ]
    },
    {
     "name": "stderr",
     "output_type": "stream",
     "text": [
      "\r",
      " 19%|████████                                  | 34/178 [01:35<06:37,  2.76s/it]"
     ]
    },
    {
     "name": "stdout",
     "output_type": "stream",
     "text": [
      "(256, 256) [0 1 2 3 4] 001.Black_footed_Albatross Black_Footed_Albatross_0076_417\n"
     ]
    },
    {
     "name": "stderr",
     "output_type": "stream",
     "text": [
      "\r",
      " 20%|████████▎                                 | 35/178 [01:38<06:36,  2.77s/it]"
     ]
    },
    {
     "name": "stdout",
     "output_type": "stream",
     "text": [
      "(256, 256) [0 1 2 3 4] 001.Black_footed_Albatross Black_Footed_Albatross_0019_796104\n"
     ]
    },
    {
     "name": "stderr",
     "output_type": "stream",
     "text": [
      "\r",
      " 20%|████████▍                                 | 36/178 [01:40<06:35,  2.78s/it]"
     ]
    },
    {
     "name": "stdout",
     "output_type": "stream",
     "text": [
      "(256, 256) [0 1 2 3 4] 001.Black_footed_Albatross Black_Footed_Albatross_0057_796106\n"
     ]
    },
    {
     "name": "stderr",
     "output_type": "stream",
     "text": [
      "\r",
      " 21%|████████▋                                 | 37/178 [01:43<06:34,  2.80s/it]"
     ]
    },
    {
     "name": "stdout",
     "output_type": "stream",
     "text": [
      "(256, 256) [0 1 2 3 4] 001.Black_footed_Albatross Black_Footed_Albatross_0041_796108\n"
     ]
    },
    {
     "name": "stderr",
     "output_type": "stream",
     "text": [
      "\r",
      " 21%|████████▉                                 | 38/178 [01:46<06:32,  2.81s/it]"
     ]
    },
    {
     "name": "stdout",
     "output_type": "stream",
     "text": [
      "(256, 256) [0 1 2 3 4] 001.Black_footed_Albatross Black_Footed_Albatross_0053_796109\n"
     ]
    },
    {
     "name": "stderr",
     "output_type": "stream",
     "text": [
      "\r",
      " 22%|█████████▏                                | 39/178 [01:49<06:27,  2.79s/it]"
     ]
    },
    {
     "name": "stdout",
     "output_type": "stream",
     "text": [
      "(256, 256) [0 1 2 3 4] 001.Black_footed_Albatross Black_Footed_Albatross_0001_796111\n"
     ]
    },
    {
     "name": "stderr",
     "output_type": "stream",
     "text": [
      "\r",
      " 22%|█████████▍                                | 40/178 [01:52<06:23,  2.78s/it]"
     ]
    },
    {
     "name": "stdout",
     "output_type": "stream",
     "text": [
      "(256, 256) [0 1 2 3 4] 001.Black_footed_Albatross Black_Footed_Albatross_0071_796113\n"
     ]
    },
    {
     "name": "stderr",
     "output_type": "stream",
     "text": [
      "\r",
      " 23%|█████████▋                                | 41/178 [01:54<06:20,  2.78s/it]"
     ]
    },
    {
     "name": "stdout",
     "output_type": "stream",
     "text": [
      "(256, 256) [0 1 2 3 4] 001.Black_footed_Albatross Black_Footed_Albatross_0077_796114\n"
     ]
    },
    {
     "name": "stderr",
     "output_type": "stream",
     "text": [
      "\r",
      " 24%|█████████▉                                | 42/178 [01:57<06:16,  2.77s/it]"
     ]
    },
    {
     "name": "stdout",
     "output_type": "stream",
     "text": [
      "(256, 256) [0 1 2 3 4] 001.Black_footed_Albatross Black_Footed_Albatross_0032_796115\n"
     ]
    },
    {
     "name": "stderr",
     "output_type": "stream",
     "text": [
      "\r",
      " 24%|██████████▏                               | 43/178 [02:00<06:14,  2.78s/it]"
     ]
    },
    {
     "name": "stdout",
     "output_type": "stream",
     "text": [
      "(256, 256) [0 1 2 3 4] 001.Black_footed_Albatross Black_Footed_Albatross_0038_212\n"
     ]
    },
    {
     "name": "stderr",
     "output_type": "stream",
     "text": [
      "\r",
      " 25%|██████████▍                               | 44/178 [02:03<06:11,  2.77s/it]"
     ]
    },
    {
     "name": "stdout",
     "output_type": "stream",
     "text": [
      "(256, 256) [0 1 2 3 4] 001.Black_footed_Albatross Black_Footed_Albatross_0037_796120\n"
     ]
    },
    {
     "name": "stderr",
     "output_type": "stream",
     "text": [
      "\r",
      " 25%|██████████▌                               | 45/178 [02:05<06:08,  2.77s/it]"
     ]
    },
    {
     "name": "stdout",
     "output_type": "stream",
     "text": [
      "(256, 256) [0 1 2 3 4] 001.Black_footed_Albatross Black_Footed_Albatross_0082_796121\n"
     ]
    },
    {
     "name": "stderr",
     "output_type": "stream",
     "text": [
      "\r",
      " 26%|██████████▊                               | 46/178 [02:08<06:07,  2.78s/it]"
     ]
    },
    {
     "name": "stdout",
     "output_type": "stream",
     "text": [
      "(256, 256) [0 1 2 3 4] 001.Black_footed_Albatross Black_Footed_Albatross_0079_796122\n"
     ]
    },
    {
     "name": "stderr",
     "output_type": "stream",
     "text": [
      "\r",
      " 26%|███████████                               | 47/178 [02:11<06:03,  2.77s/it]"
     ]
    },
    {
     "name": "stdout",
     "output_type": "stream",
     "text": [
      "(256, 256) [0 1 2 3 4] 001.Black_footed_Albatross Black_Footed_Albatross_0050_796125\n"
     ]
    },
    {
     "name": "stderr",
     "output_type": "stream",
     "text": [
      "\r",
      " 27%|███████████▎                              | 48/178 [02:14<05:59,  2.77s/it]"
     ]
    },
    {
     "name": "stdout",
     "output_type": "stream",
     "text": [
      "(256, 256) [0 1 2 3] 001.Black_footed_Albatross Black_Footed_Albatross_0078_796126\n"
     ]
    },
    {
     "name": "stderr",
     "output_type": "stream",
     "text": [
      "\r",
      " 28%|███████████▌                              | 49/178 [02:17<05:57,  2.77s/it]"
     ]
    },
    {
     "name": "stdout",
     "output_type": "stream",
     "text": [
      "(256, 256) [0 1 2 3 4] 001.Black_footed_Albatross Black_Footed_Albatross_0036_796127\n"
     ]
    },
    {
     "name": "stderr",
     "output_type": "stream",
     "text": [
      "\r",
      " 28%|███████████▊                              | 50/178 [02:19<05:54,  2.77s/it]"
     ]
    },
    {
     "name": "stdout",
     "output_type": "stream",
     "text": [
      "(256, 256) [0 1 2 3 4] 001.Black_footed_Albatross Black_Footed_Albatross_0045_796129\n"
     ]
    },
    {
     "name": "stderr",
     "output_type": "stream",
     "text": [
      "\r",
      " 29%|████████████                              | 51/178 [02:22<05:51,  2.77s/it]"
     ]
    },
    {
     "name": "stdout",
     "output_type": "stream",
     "text": [
      "(256, 256) [0 1 2 3 4] 001.Black_footed_Albatross Black_Footed_Albatross_0039_796132\n"
     ]
    },
    {
     "name": "stderr",
     "output_type": "stream",
     "text": [
      "\r",
      " 29%|████████████▎                             | 52/178 [02:25<05:49,  2.78s/it]"
     ]
    },
    {
     "name": "stdout",
     "output_type": "stream",
     "text": [
      "(256, 256) [0 1 2 3] 001.Black_footed_Albatross Black_Footed_Albatross_0088_796133\n"
     ]
    },
    {
     "name": "stderr",
     "output_type": "stream",
     "text": [
      "\r",
      " 30%|████████████▌                             | 53/178 [02:28<05:46,  2.77s/it]"
     ]
    },
    {
     "name": "stdout",
     "output_type": "stream",
     "text": [
      "(256, 256) [0 1 2 3 4] 001.Black_footed_Albatross Black_Footed_Albatross_0068_796135\n"
     ]
    },
    {
     "name": "stderr",
     "output_type": "stream",
     "text": [
      "\r",
      " 30%|████████████▋                             | 54/178 [02:30<05:43,  2.77s/it]"
     ]
    },
    {
     "name": "stdout",
     "output_type": "stream",
     "text": [
      "(256, 256) [0 1 2 3 4] 001.Black_footed_Albatross Black_Footed_Albatross_0003_796136\n"
     ]
    },
    {
     "name": "stderr",
     "output_type": "stream",
     "text": [
      "\r",
      " 31%|████████████▉                             | 55/178 [02:33<05:40,  2.77s/it]"
     ]
    },
    {
     "name": "stdout",
     "output_type": "stream",
     "text": [
      "(256, 256) [0 1 2 3 4] 001.Black_footed_Albatross Black_Footed_Albatross_0007_796138\n"
     ]
    },
    {
     "name": "stderr",
     "output_type": "stream",
     "text": [
      "\r",
      " 31%|█████████████▏                            | 56/178 [02:36<05:38,  2.78s/it]"
     ]
    },
    {
     "name": "stdout",
     "output_type": "stream",
     "text": [
      "(256, 256) [0 1 2 3 4] 001.Black_footed_Albatross Black_Footed_Albatross_0069_796139\n"
     ]
    },
    {
     "name": "stderr",
     "output_type": "stream",
     "text": [
      "\r",
      " 32%|█████████████▍                            | 57/178 [02:39<05:37,  2.79s/it]"
     ]
    },
    {
     "name": "stdout",
     "output_type": "stream",
     "text": [
      "(256, 256) [0 1 2 3 4] 001.Black_footed_Albatross Black_Footed_Albatross_0035_796140\n"
     ]
    },
    {
     "name": "stderr",
     "output_type": "stream",
     "text": [
      "\r",
      " 33%|█████████████▋                            | 58/178 [02:42<05:37,  2.81s/it]"
     ]
    },
    {
     "name": "stdout",
     "output_type": "stream",
     "text": [
      "(256, 256) [0 1 2 3 4] 001.Black_footed_Albatross Black_Footed_Albatross_0063_796141\n"
     ]
    },
    {
     "name": "stderr",
     "output_type": "stream",
     "text": [
      "\r",
      " 33%|█████████████▉                            | 59/178 [02:44<05:33,  2.80s/it]"
     ]
    },
    {
     "name": "stdout",
     "output_type": "stream",
     "text": [
      "(256, 256) [0 1 2 3 4] 001.Black_footed_Albatross Black_Footed_Albatross_0058_796074\n"
     ]
    },
    {
     "name": "stderr",
     "output_type": "stream",
     "text": [
      "\r",
      " 34%|██████████████▏                           | 60/178 [02:47<05:28,  2.79s/it]"
     ]
    },
    {
     "name": "stdout",
     "output_type": "stream",
     "text": [
      "(256, 256) [0 1 3 4] 001.Black_footed_Albatross Black_Footed_Albatross_0081_426\n"
     ]
    },
    {
     "name": "stderr",
     "output_type": "stream",
     "text": [
      "\r",
      " 34%|██████████████▍                           | 61/178 [02:50<05:24,  2.78s/it]"
     ]
    },
    {
     "name": "stdout",
     "output_type": "stream",
     "text": [
      "(256, 256) [0 1 2 3 4] 002.Laysan_Albatross Laysan_Albatross_0002_1027\n"
     ]
    },
    {
     "name": "stderr",
     "output_type": "stream",
     "text": [
      "\r",
      " 35%|██████████████▋                           | 62/178 [02:53<05:22,  2.78s/it]"
     ]
    },
    {
     "name": "stdout",
     "output_type": "stream",
     "text": [
      "(256, 256) [0 1 2 3 4] 002.Laysan_Albatross Laysan_Albatross_0003_1033\n"
     ]
    },
    {
     "name": "stderr",
     "output_type": "stream",
     "text": [
      "\r",
      " 35%|██████████████▊                           | 63/178 [02:56<05:20,  2.79s/it]"
     ]
    },
    {
     "name": "stdout",
     "output_type": "stream",
     "text": [
      "(256, 256) [0 1 2 3 4] 002.Laysan_Albatross Laysan_Albatross_0082_524\n"
     ]
    },
    {
     "name": "stderr",
     "output_type": "stream",
     "text": [
      "\r",
      " 36%|███████████████                           | 64/178 [02:58<05:18,  2.79s/it]"
     ]
    },
    {
     "name": "stdout",
     "output_type": "stream",
     "text": [
      "(256, 256) [0 1 2 3 4] 002.Laysan_Albatross Laysan_Albatross_0044_784\n"
     ]
    },
    {
     "name": "stderr",
     "output_type": "stream",
     "text": [
      "\r",
      " 37%|███████████████▎                          | 65/178 [03:01<05:15,  2.79s/it]"
     ]
    },
    {
     "name": "stdout",
     "output_type": "stream",
     "text": [
      "(256, 256) [0 1 2 3 4] 002.Laysan_Albatross Laysan_Albatross_0070_788\n"
     ]
    },
    {
     "name": "stderr",
     "output_type": "stream",
     "text": [
      "\r",
      " 37%|███████████████▌                          | 66/178 [03:04<05:11,  2.78s/it]"
     ]
    },
    {
     "name": "stdout",
     "output_type": "stream",
     "text": [
      "(256, 256) [0 1 2 3 4] 002.Laysan_Albatross Laysan_Albatross_0050_870\n"
     ]
    },
    {
     "name": "stderr",
     "output_type": "stream",
     "text": [
      "\r",
      " 38%|███████████████▊                          | 67/178 [03:07<05:08,  2.78s/it]"
     ]
    },
    {
     "name": "stdout",
     "output_type": "stream",
     "text": [
      "(256, 256) [0 1 2 3 4] 002.Laysan_Albatross Laysan_Albatross_0071_792\n"
     ]
    },
    {
     "name": "stderr",
     "output_type": "stream",
     "text": [
      "\r",
      " 38%|████████████████                          | 68/178 [03:09<05:05,  2.78s/it]"
     ]
    },
    {
     "name": "stdout",
     "output_type": "stream",
     "text": [
      "(256, 256) [0 1 2 3 4] 002.Laysan_Albatross Laysan_Albatross_0053_543\n"
     ]
    },
    {
     "name": "stderr",
     "output_type": "stream",
     "text": [
      "\r",
      " 39%|████████████████▎                         | 69/178 [03:12<05:04,  2.80s/it]"
     ]
    },
    {
     "name": "stdout",
     "output_type": "stream",
     "text": [
      "(256, 256) [0 1 2 3 4] 002.Laysan_Albatross Laysan_Albatross_0081_800\n"
     ]
    },
    {
     "name": "stderr",
     "output_type": "stream",
     "text": [
      "\r",
      " 39%|████████████████▌                         | 70/178 [03:15<05:02,  2.80s/it]"
     ]
    },
    {
     "name": "stdout",
     "output_type": "stream",
     "text": [
      "(256, 256) [0 1 2 3 4] 002.Laysan_Albatross Laysan_Albatross_0001_545\n"
     ]
    },
    {
     "name": "stderr",
     "output_type": "stream",
     "text": [
      "\r",
      " 40%|████████████████▊                         | 71/178 [03:18<05:03,  2.84s/it]"
     ]
    },
    {
     "name": "stdout",
     "output_type": "stream",
     "text": [
      "(256, 256) [0 1 2 3 4] 002.Laysan_Albatross Laysan_Albatross_0023_1059\n"
     ]
    },
    {
     "name": "stderr",
     "output_type": "stream",
     "text": [
      "\r",
      " 40%|████████████████▉                         | 72/178 [03:21<04:58,  2.82s/it]"
     ]
    },
    {
     "name": "stdout",
     "output_type": "stream",
     "text": [
      "(256, 256) [0 1 2 3 4] 002.Laysan_Albatross Laysan_Albatross_0065_809\n"
     ]
    },
    {
     "name": "stderr",
     "output_type": "stream",
     "text": [
      "\r",
      " 41%|█████████████████▏                        | 73/178 [03:24<04:54,  2.81s/it]"
     ]
    },
    {
     "name": "stdout",
     "output_type": "stream",
     "text": [
      "(256, 256) [0 1 2 3 4] 002.Laysan_Albatross Laysan_Albatross_0061_563\n"
     ]
    },
    {
     "name": "stderr",
     "output_type": "stream",
     "text": [
      "\r",
      " 42%|█████████████████▍                        | 74/178 [03:26<04:50,  2.80s/it]"
     ]
    },
    {
     "name": "stdout",
     "output_type": "stream",
     "text": [
      "(256, 256) [0 1 2 3 4] 002.Laysan_Albatross Laysan_Albatross_0085_564\n"
     ]
    },
    {
     "name": "stderr",
     "output_type": "stream",
     "text": [
      "\r",
      " 42%|█████████████████▋                        | 75/178 [03:29<04:47,  2.79s/it]"
     ]
    },
    {
     "name": "stdout",
     "output_type": "stream",
     "text": [
      "(256, 256) [0 1 2 3 4] 002.Laysan_Albatross Laysan_Albatross_0005_565\n"
     ]
    },
    {
     "name": "stderr",
     "output_type": "stream",
     "text": [
      "\r",
      " 43%|█████████████████▉                        | 76/178 [03:32<04:45,  2.80s/it]"
     ]
    },
    {
     "name": "stdout",
     "output_type": "stream",
     "text": [
      "(256, 256) [0 1 2 3 4] 002.Laysan_Albatross Laysan_Albatross_0060_777\n"
     ]
    },
    {
     "name": "stderr",
     "output_type": "stream",
     "text": [
      "\r",
      " 43%|██████████████████▏                       | 77/178 [03:35<04:42,  2.80s/it]"
     ]
    },
    {
     "name": "stdout",
     "output_type": "stream",
     "text": [
      "(256, 256) [0 1 2 3 4] 002.Laysan_Albatross Laysan_Albatross_0055_570\n"
     ]
    },
    {
     "name": "stderr",
     "output_type": "stream",
     "text": [
      "\r",
      " 44%|██████████████████▍                       | 78/178 [03:38<04:39,  2.80s/it]"
     ]
    },
    {
     "name": "stdout",
     "output_type": "stream",
     "text": [
      "(256, 256) [0 1 2 3 4] 002.Laysan_Albatross Laysan_Albatross_0025_571\n"
     ]
    },
    {
     "name": "stderr",
     "output_type": "stream",
     "text": [
      "\r",
      " 44%|██████████████████▋                       | 79/178 [03:40<04:36,  2.80s/it]"
     ]
    },
    {
     "name": "stdout",
     "output_type": "stream",
     "text": [
      "(256, 256) [0 1 2 3 4] 002.Laysan_Albatross Laysan_Albatross_0080_821\n"
     ]
    },
    {
     "name": "stderr",
     "output_type": "stream",
     "text": [
      "\r",
      " 45%|██████████████████▉                       | 80/178 [03:43<04:35,  2.81s/it]"
     ]
    },
    {
     "name": "stdout",
     "output_type": "stream",
     "text": [
      "(256, 256) [0 1 2 3 4] 002.Laysan_Albatross Laysan_Albatross_0092_834\n"
     ]
    },
    {
     "name": "stderr",
     "output_type": "stream",
     "text": [
      "\r",
      " 46%|███████████████████                       | 81/178 [03:46<04:33,  2.82s/it]"
     ]
    },
    {
     "name": "stdout",
     "output_type": "stream",
     "text": [
      "(256, 256) [0 1 2 3 4] 002.Laysan_Albatross Laysan_Albatross_0013_910\n"
     ]
    },
    {
     "name": "stderr",
     "output_type": "stream",
     "text": [
      "\r",
      " 46%|███████████████████▎                      | 82/178 [03:49<04:30,  2.82s/it]"
     ]
    },
    {
     "name": "stdout",
     "output_type": "stream",
     "text": [
      "(256, 256) [0 1 2 3 4] 002.Laysan_Albatross Laysan_Albatross_0091_602\n"
     ]
    },
    {
     "name": "stderr",
     "output_type": "stream",
     "text": [
      "\r",
      " 47%|███████████████████▌                      | 83/178 [03:52<04:26,  2.81s/it]"
     ]
    },
    {
     "name": "stdout",
     "output_type": "stream",
     "text": [
      "(256, 256) [0 1 2 3 4] 002.Laysan_Albatross Laysan_Albatross_0102_611\n"
     ]
    },
    {
     "name": "stderr",
     "output_type": "stream",
     "text": [
      "\r",
      " 47%|███████████████████▊                      | 84/178 [03:54<04:24,  2.81s/it]"
     ]
    },
    {
     "name": "stdout",
     "output_type": "stream",
     "text": [
      "(256, 256) [0 1 2 3 4] 002.Laysan_Albatross Laysan_Albatross_0099_869\n"
     ]
    },
    {
     "name": "stderr",
     "output_type": "stream",
     "text": [
      "\r",
      " 48%|████████████████████                      | 85/178 [03:57<04:21,  2.81s/it]"
     ]
    },
    {
     "name": "stdout",
     "output_type": "stream",
     "text": [
      "(256, 256) [0 1 2 3 4] 002.Laysan_Albatross Laysan_Albatross_0017_614\n"
     ]
    },
    {
     "name": "stderr",
     "output_type": "stream",
     "text": [
      "\r",
      " 48%|████████████████████▎                     | 86/178 [04:00<04:18,  2.81s/it]"
     ]
    },
    {
     "name": "stdout",
     "output_type": "stream",
     "text": [
      "(256, 256) [0 1 2 3 4] 002.Laysan_Albatross Laysan_Albatross_0047_619\n"
     ]
    },
    {
     "name": "stderr",
     "output_type": "stream",
     "text": [
      "\r",
      " 49%|████████████████████▌                     | 87/178 [04:03<04:16,  2.82s/it]"
     ]
    },
    {
     "name": "stdout",
     "output_type": "stream",
     "text": [
      "(256, 256) [0 1 2 3 4] 002.Laysan_Albatross Laysan_Albatross_0035_876\n"
     ]
    },
    {
     "name": "stderr",
     "output_type": "stream",
     "text": [
      "\r",
      " 49%|████████████████████▊                     | 88/178 [04:06<04:13,  2.81s/it]"
     ]
    },
    {
     "name": "stdout",
     "output_type": "stream",
     "text": [
      "(256, 256) [0 1 2 3 4] 002.Laysan_Albatross Laysan_Albatross_0098_621\n"
     ]
    },
    {
     "name": "stderr",
     "output_type": "stream",
     "text": [
      "\r",
      " 50%|█████████████████████                     | 89/178 [04:08<04:10,  2.81s/it]"
     ]
    },
    {
     "name": "stdout",
     "output_type": "stream",
     "text": [
      "(256, 256) [0 1 2 3 4] 002.Laysan_Albatross Laysan_Albatross_0088_883\n"
     ]
    },
    {
     "name": "stderr",
     "output_type": "stream",
     "text": [
      "\r",
      " 51%|█████████████████████▏                    | 90/178 [04:11<04:07,  2.81s/it]"
     ]
    },
    {
     "name": "stdout",
     "output_type": "stream",
     "text": [
      "(256, 256) [0 1 2 3 4] 002.Laysan_Albatross Laysan_Albatross_0034_628\n"
     ]
    },
    {
     "name": "stderr",
     "output_type": "stream",
     "text": [
      "\r",
      " 51%|█████████████████████▍                    | 91/178 [04:14<04:03,  2.80s/it]"
     ]
    },
    {
     "name": "stdout",
     "output_type": "stream",
     "text": [
      "(256, 256) [0 1 3 4] 002.Laysan_Albatross Laysan_Albatross_0104_630\n"
     ]
    },
    {
     "name": "stderr",
     "output_type": "stream",
     "text": [
      "\r",
      " 52%|█████████████████████▋                    | 92/178 [04:17<04:00,  2.80s/it]"
     ]
    },
    {
     "name": "stdout",
     "output_type": "stream",
     "text": [
      "(256, 256) [0 1 2 3 4] 002.Laysan_Albatross Laysan_Albatross_0058_637\n"
     ]
    },
    {
     "name": "stderr",
     "output_type": "stream",
     "text": [
      "\r",
      " 52%|█████████████████████▉                    | 93/178 [04:20<03:57,  2.80s/it]"
     ]
    },
    {
     "name": "stdout",
     "output_type": "stream",
     "text": [
      "(256, 256) [0 1 2 3 4] 002.Laysan_Albatross Laysan_Albatross_0028_643\n"
     ]
    },
    {
     "name": "stderr",
     "output_type": "stream",
     "text": [
      "\r",
      " 53%|██████████████████████▏                   | 94/178 [04:22<03:55,  2.81s/it]"
     ]
    },
    {
     "name": "stdout",
     "output_type": "stream",
     "text": [
      "(256, 256) [0 1 2 3 4] 002.Laysan_Albatross Laysan_Albatross_0033_658\n"
     ]
    },
    {
     "name": "stderr",
     "output_type": "stream",
     "text": [
      "\r",
      " 53%|██████████████████████▍                   | 95/178 [04:25<03:52,  2.80s/it]"
     ]
    },
    {
     "name": "stdout",
     "output_type": "stream",
     "text": [
      "(256, 256) [0 1 3] 002.Laysan_Albatross Laysan_Albatross_0075_668\n"
     ]
    },
    {
     "name": "stderr",
     "output_type": "stream",
     "text": [
      "\r",
      " 54%|██████████████████████▋                   | 96/178 [04:28<03:53,  2.85s/it]"
     ]
    },
    {
     "name": "stdout",
     "output_type": "stream",
     "text": [
      "(256, 256) [0 1 2 3 4] 002.Laysan_Albatross Laysan_Albatross_0076_671\n"
     ]
    },
    {
     "name": "stderr",
     "output_type": "stream",
     "text": [
      "\r",
      " 54%|██████████████████████▉                   | 97/178 [04:31<03:51,  2.86s/it]"
     ]
    },
    {
     "name": "stdout",
     "output_type": "stream",
     "text": [
      "(256, 256) [0 1 2 3 4] 002.Laysan_Albatross Laysan_Albatross_0096_673\n"
     ]
    },
    {
     "name": "stderr",
     "output_type": "stream",
     "text": [
      "\r",
      " 55%|███████████████████████                   | 98/178 [04:34<03:47,  2.84s/it]"
     ]
    },
    {
     "name": "stdout",
     "output_type": "stream",
     "text": [
      "(256, 256) [0 1 2 3 4] 002.Laysan_Albatross Laysan_Albatross_0064_674\n"
     ]
    },
    {
     "name": "stderr",
     "output_type": "stream",
     "text": [
      "\r",
      " 56%|███████████████████████▎                  | 99/178 [04:37<03:44,  2.84s/it]"
     ]
    },
    {
     "name": "stdout",
     "output_type": "stream",
     "text": [
      "(256, 256) [0 1 2 3 4] 002.Laysan_Albatross Laysan_Albatross_0039_924\n"
     ]
    },
    {
     "name": "stderr",
     "output_type": "stream",
     "text": [
      "\r",
      " 56%|███████████████████████                  | 100/178 [04:40<03:40,  2.83s/it]"
     ]
    },
    {
     "name": "stdout",
     "output_type": "stream",
     "text": [
      "(256, 256) [0 1 2 3 4] 002.Laysan_Albatross Laysan_Albatross_0049_918\n"
     ]
    },
    {
     "name": "stderr",
     "output_type": "stream",
     "text": [
      "\r",
      " 57%|███████████████████████▎                 | 101/178 [04:42<03:36,  2.82s/it]"
     ]
    },
    {
     "name": "stdout",
     "output_type": "stream",
     "text": [
      "(256, 256) [0 1 2 3 4] 002.Laysan_Albatross Laysan_Albatross_0012_696\n"
     ]
    },
    {
     "name": "stderr",
     "output_type": "stream",
     "text": [
      "\r",
      " 57%|███████████████████████▍                 | 102/178 [04:45<03:33,  2.81s/it]"
     ]
    },
    {
     "name": "stdout",
     "output_type": "stream",
     "text": [
      "(256, 256) [0 1 2 3 4] 002.Laysan_Albatross Laysan_Albatross_0056_500\n"
     ]
    },
    {
     "name": "stderr",
     "output_type": "stream",
     "text": [
      "\r",
      " 58%|███████████████████████▋                 | 103/178 [04:48<03:29,  2.80s/it]"
     ]
    },
    {
     "name": "stdout",
     "output_type": "stream",
     "text": [
      "(256, 256) [0 1 2 3 4] 002.Laysan_Albatross Laysan_Albatross_0037_699\n"
     ]
    },
    {
     "name": "stderr",
     "output_type": "stream",
     "text": [
      "\r",
      " 58%|███████████████████████▉                 | 104/178 [04:51<03:26,  2.79s/it]"
     ]
    },
    {
     "name": "stdout",
     "output_type": "stream",
     "text": [
      "(256, 256) [0 1 2 3 4] 002.Laysan_Albatross Laysan_Albatross_0006_702\n"
     ]
    },
    {
     "name": "stderr",
     "output_type": "stream",
     "text": [
      "\r",
      " 59%|████████████████████████▏                | 105/178 [04:54<03:24,  2.80s/it]"
     ]
    },
    {
     "name": "stdout",
     "output_type": "stream",
     "text": [
      "(256, 256) [0 1 2 3 4] 002.Laysan_Albatross Laysan_Albatross_0073_927\n"
     ]
    },
    {
     "name": "stderr",
     "output_type": "stream",
     "text": [
      "\r",
      " 60%|████████████████████████▍                | 106/178 [04:56<03:21,  2.80s/it]"
     ]
    },
    {
     "name": "stdout",
     "output_type": "stream",
     "text": [
      "(256, 256) [0 1 2 3 4] 002.Laysan_Albatross Laysan_Albatross_0042_801\n"
     ]
    },
    {
     "name": "stderr",
     "output_type": "stream",
     "text": [
      "\r",
      " 60%|████████████████████████▋                | 107/178 [04:59<03:19,  2.80s/it]"
     ]
    },
    {
     "name": "stdout",
     "output_type": "stream",
     "text": [
      "(256, 256) [0 1 2 3 4] 002.Laysan_Albatross Laysan_Albatross_0004_930\n"
     ]
    },
    {
     "name": "stderr",
     "output_type": "stream",
     "text": [
      "\r",
      " 61%|████████████████████████▉                | 108/178 [05:02<03:17,  2.82s/it]"
     ]
    },
    {
     "name": "stdout",
     "output_type": "stream",
     "text": [
      "(256, 256) [0 1 2 3 4] 002.Laysan_Albatross Laysan_Albatross_0093_725\n"
     ]
    },
    {
     "name": "stderr",
     "output_type": "stream",
     "text": [
      "\r",
      " 61%|█████████████████████████                | 109/178 [05:05<03:14,  2.82s/it]"
     ]
    },
    {
     "name": "stdout",
     "output_type": "stream",
     "text": [
      "(256, 256) [0 1 2 3 4] 002.Laysan_Albatross Laysan_Albatross_0068_726\n"
     ]
    },
    {
     "name": "stderr",
     "output_type": "stream",
     "text": [
      "\r",
      " 62%|█████████████████████████▎               | 110/178 [05:08<03:11,  2.82s/it]"
     ]
    },
    {
     "name": "stdout",
     "output_type": "stream",
     "text": [
      "(256, 256) [0 1 2 3 4] 002.Laysan_Albatross Laysan_Albatross_0040_472\n"
     ]
    },
    {
     "name": "stderr",
     "output_type": "stream",
     "text": [
      "\r",
      " 62%|█████████████████████████▌               | 111/178 [05:10<03:08,  2.82s/it]"
     ]
    },
    {
     "name": "stdout",
     "output_type": "stream",
     "text": [
      "(256, 256) [0 1 2 3 4] 002.Laysan_Albatross Laysan_Albatross_0100_735\n"
     ]
    },
    {
     "name": "stderr",
     "output_type": "stream",
     "text": [
      "\r",
      " 63%|█████████████████████████▊               | 112/178 [05:13<03:06,  2.82s/it]"
     ]
    },
    {
     "name": "stdout",
     "output_type": "stream",
     "text": [
      "(256, 256) [0 1 2 3 4] 002.Laysan_Albatross Laysan_Albatross_0021_737\n"
     ]
    },
    {
     "name": "stderr",
     "output_type": "stream",
     "text": [
      "\r",
      " 63%|██████████████████████████               | 113/178 [05:16<03:03,  2.82s/it]"
     ]
    },
    {
     "name": "stdout",
     "output_type": "stream",
     "text": [
      "(256, 256) [0 1 2 3 4] 002.Laysan_Albatross Laysan_Albatross_0029_482\n"
     ]
    },
    {
     "name": "stderr",
     "output_type": "stream",
     "text": [
      "\r",
      " 64%|██████████████████████████▎              | 114/178 [05:19<03:00,  2.81s/it]"
     ]
    },
    {
     "name": "stdout",
     "output_type": "stream",
     "text": [
      "(256, 256) [0 1 2 3 4] 002.Laysan_Albatross Laysan_Albatross_0059_488\n"
     ]
    },
    {
     "name": "stderr",
     "output_type": "stream",
     "text": [
      "\r",
      " 65%|██████████████████████████▍              | 115/178 [05:22<02:57,  2.81s/it]"
     ]
    },
    {
     "name": "stdout",
     "output_type": "stream",
     "text": [
      "(256, 256) [0 1 2 3 4] 002.Laysan_Albatross Laysan_Albatross_0018_492\n"
     ]
    },
    {
     "name": "stderr",
     "output_type": "stream",
     "text": [
      "\r",
      " 65%|██████████████████████████▋              | 116/178 [05:25<02:54,  2.82s/it]"
     ]
    },
    {
     "name": "stdout",
     "output_type": "stream",
     "text": [
      "(256, 256) [0 1 2 3 4] 002.Laysan_Albatross Laysan_Albatross_0083_756\n"
     ]
    },
    {
     "name": "stderr",
     "output_type": "stream",
     "text": [
      "\r",
      " 66%|██████████████████████████▉              | 117/178 [05:27<02:52,  2.82s/it]"
     ]
    },
    {
     "name": "stdout",
     "output_type": "stream",
     "text": [
      "(256, 256) [0 1 2 3 4] 002.Laysan_Albatross Laysan_Albatross_0094_1013\n"
     ]
    },
    {
     "name": "stderr",
     "output_type": "stream",
     "text": [
      "\r",
      " 66%|███████████████████████████▏             | 118/178 [05:30<02:52,  2.87s/it]"
     ]
    },
    {
     "name": "stdout",
     "output_type": "stream",
     "text": [
      "(256, 256) [0 1 2 3 4] 002.Laysan_Albatross Laysan_Albatross_0103_504\n"
     ]
    },
    {
     "name": "stderr",
     "output_type": "stream",
     "text": [
      "\r",
      " 67%|███████████████████████████▍             | 119/178 [05:33<02:48,  2.86s/it]"
     ]
    },
    {
     "name": "stdout",
     "output_type": "stream",
     "text": [
      "(256, 256) [0 1 2 3 4] 002.Laysan_Albatross Laysan_Albatross_0079_506\n"
     ]
    },
    {
     "name": "stderr",
     "output_type": "stream",
     "text": [
      "\r",
      " 67%|███████████████████████████▋             | 120/178 [05:36<02:45,  2.86s/it]"
     ]
    },
    {
     "name": "stdout",
     "output_type": "stream",
     "text": [
      "(256, 256) [0 1 2 3 4] 002.Laysan_Albatross Laysan_Albatross_0051_1020\n"
     ]
    },
    {
     "name": "stderr",
     "output_type": "stream",
     "text": [
      "\r",
      " 68%|███████████████████████████▊             | 121/178 [05:39<02:45,  2.91s/it]"
     ]
    },
    {
     "name": "stdout",
     "output_type": "stream",
     "text": [
      "(256, 256) [0 1 2 3 4] 003.Sooty_Albatross Sooty_Albatross_0038_1065\n"
     ]
    },
    {
     "name": "stderr",
     "output_type": "stream",
     "text": [
      "\r",
      " 69%|████████████████████████████             | 122/178 [05:42<02:42,  2.89s/it]"
     ]
    },
    {
     "name": "stdout",
     "output_type": "stream",
     "text": [
      "(256, 256) [0 1 2 3 4] 003.Sooty_Albatross Sooty_Albatross_0031_1066\n"
     ]
    },
    {
     "name": "stderr",
     "output_type": "stream",
     "text": [
      "\r",
      " 69%|████████████████████████████▎            | 123/178 [05:45<02:37,  2.87s/it]"
     ]
    },
    {
     "name": "stdout",
     "output_type": "stream",
     "text": [
      "(256, 256) [0 1 2 3 4] 003.Sooty_Albatross Sooty_Albatross_0001_1071\n"
     ]
    },
    {
     "name": "stderr",
     "output_type": "stream",
     "text": [
      "\r",
      " 70%|████████████████████████████▌            | 124/178 [05:48<02:33,  2.85s/it]"
     ]
    },
    {
     "name": "stdout",
     "output_type": "stream",
     "text": [
      "(256, 256) [0 1 2 3 4] 003.Sooty_Albatross Sooty_Albatross_0016_1075\n"
     ]
    },
    {
     "name": "stderr",
     "output_type": "stream",
     "text": [
      "\r",
      " 70%|████████████████████████████▊            | 125/178 [05:50<02:31,  2.85s/it]"
     ]
    },
    {
     "name": "stdout",
     "output_type": "stream",
     "text": [
      "(256, 256) [0 1 2 3 4] 003.Sooty_Albatross Sooty_Albatross_0043_1076\n"
     ]
    },
    {
     "name": "stderr",
     "output_type": "stream",
     "text": [
      "\r",
      " 71%|█████████████████████████████            | 126/178 [05:53<02:27,  2.84s/it]"
     ]
    },
    {
     "name": "stdout",
     "output_type": "stream",
     "text": [
      "(256, 256) [0 1 2 3 4] 003.Sooty_Albatross Sooty_Albatross_0003_1078\n"
     ]
    },
    {
     "name": "stderr",
     "output_type": "stream",
     "text": [
      "\r",
      " 71%|█████████████████████████████▎           | 127/178 [05:56<02:25,  2.85s/it]"
     ]
    },
    {
     "name": "stdout",
     "output_type": "stream",
     "text": [
      "(256, 256) [0 1 2 3 4] 003.Sooty_Albatross Sooty_Albatross_0077_1080\n"
     ]
    },
    {
     "name": "stderr",
     "output_type": "stream",
     "text": [
      "\r",
      " 72%|█████████████████████████████▍           | 128/178 [05:59<02:21,  2.84s/it]"
     ]
    },
    {
     "name": "stdout",
     "output_type": "stream",
     "text": [
      "(256, 256) [0 1 2 3 4] 003.Sooty_Albatross Sooty_Albatross_0063_1101\n"
     ]
    },
    {
     "name": "stderr",
     "output_type": "stream",
     "text": [
      "\r",
      " 72%|█████████████████████████████▋           | 129/178 [06:02<02:18,  2.83s/it]"
     ]
    },
    {
     "name": "stdout",
     "output_type": "stream",
     "text": [
      "(256, 256) [0 1 2 3 4] 003.Sooty_Albatross Sooty_Albatross_0044_1105\n"
     ]
    },
    {
     "name": "stderr",
     "output_type": "stream",
     "text": [
      "\r",
      " 73%|█████████████████████████████▉           | 130/178 [06:05<02:15,  2.83s/it]"
     ]
    },
    {
     "name": "stdout",
     "output_type": "stream",
     "text": [
      "(256, 256) [0 1 2 3 4] 003.Sooty_Albatross Sooty_Albatross_0071_1116\n"
     ]
    },
    {
     "name": "stderr",
     "output_type": "stream",
     "text": [
      "\r",
      " 74%|██████████████████████████████▏          | 131/178 [06:07<02:12,  2.83s/it]"
     ]
    },
    {
     "name": "stdout",
     "output_type": "stream",
     "text": [
      "(256, 256) [0 1 2 3 4] 003.Sooty_Albatross Sooty_Albatross_0070_796346\n"
     ]
    },
    {
     "name": "stderr",
     "output_type": "stream",
     "text": [
      "\r",
      " 74%|██████████████████████████████▍          | 132/178 [06:10<02:09,  2.82s/it]"
     ]
    },
    {
     "name": "stdout",
     "output_type": "stream",
     "text": [
      "(256, 256) [0 1 2 3 4] 003.Sooty_Albatross Sooty_Albatross_0030_1122\n"
     ]
    },
    {
     "name": "stderr",
     "output_type": "stream",
     "text": [
      "\r",
      " 75%|██████████████████████████████▋          | 133/178 [06:13<02:07,  2.82s/it]"
     ]
    },
    {
     "name": "stdout",
     "output_type": "stream",
     "text": [
      "(256, 256) [0 1 2 3 4] 003.Sooty_Albatross Sooty_Albatross_0054_796347\n"
     ]
    },
    {
     "name": "stderr",
     "output_type": "stream",
     "text": [
      "\r",
      " 75%|██████████████████████████████▊          | 134/178 [06:16<02:04,  2.82s/it]"
     ]
    },
    {
     "name": "stdout",
     "output_type": "stream",
     "text": [
      "(256, 256) [0 1 2 3 4] 003.Sooty_Albatross Sooty_Albatross_0033_1128\n"
     ]
    },
    {
     "name": "stderr",
     "output_type": "stream",
     "text": [
      "\r",
      " 76%|███████████████████████████████          | 135/178 [06:19<02:01,  2.82s/it]"
     ]
    },
    {
     "name": "stdout",
     "output_type": "stream",
     "text": [
      "(256, 256) [0 1 2 3 4] 003.Sooty_Albatross Sooty_Albatross_0048_1130\n"
     ]
    },
    {
     "name": "stderr",
     "output_type": "stream",
     "text": [
      "\r",
      " 76%|███████████████████████████████▎         | 136/178 [06:21<01:58,  2.82s/it]"
     ]
    },
    {
     "name": "stdout",
     "output_type": "stream",
     "text": [
      "(256, 256) [0 1 2 3 4] 003.Sooty_Albatross Sooty_Albatross_0032_1149\n"
     ]
    },
    {
     "name": "stderr",
     "output_type": "stream",
     "text": [
      "\r",
      " 77%|███████████████████████████████▌         | 137/178 [06:24<01:55,  2.81s/it]"
     ]
    },
    {
     "name": "stdout",
     "output_type": "stream",
     "text": [
      "(256, 256) [0 1 2 3 4] 003.Sooty_Albatross Sooty_Albatross_0034_1154\n"
     ]
    },
    {
     "name": "stderr",
     "output_type": "stream",
     "text": [
      "\r",
      " 78%|███████████████████████████████▊         | 138/178 [06:27<01:52,  2.82s/it]"
     ]
    },
    {
     "name": "stdout",
     "output_type": "stream",
     "text": [
      "(256, 256) [0 1 2 3 4] 003.Sooty_Albatross Sooty_Albatross_0055_1160\n"
     ]
    },
    {
     "name": "stderr",
     "output_type": "stream",
     "text": [
      "\r",
      " 78%|████████████████████████████████         | 139/178 [06:30<01:50,  2.83s/it]"
     ]
    },
    {
     "name": "stdout",
     "output_type": "stream",
     "text": [
      "(256, 256) [0 1 2 3 4] 003.Sooty_Albatross Sooty_Albatross_0024_1161\n"
     ]
    },
    {
     "name": "stderr",
     "output_type": "stream",
     "text": [
      "\r",
      " 79%|████████████████████████████████▏        | 140/178 [06:33<01:47,  2.83s/it]"
     ]
    },
    {
     "name": "stdout",
     "output_type": "stream",
     "text": [
      "(256, 256) [0 1 2 3 4] 003.Sooty_Albatross Sooty_Albatross_0045_1162\n"
     ]
    },
    {
     "name": "stderr",
     "output_type": "stream",
     "text": [
      "\r",
      " 79%|████████████████████████████████▍        | 141/178 [06:36<01:44,  2.82s/it]"
     ]
    },
    {
     "name": "stdout",
     "output_type": "stream",
     "text": [
      "(256, 256) [0 1 2 3 4] 003.Sooty_Albatross Sooty_Albatross_0073_1171\n"
     ]
    },
    {
     "name": "stderr",
     "output_type": "stream",
     "text": [
      "\r",
      " 80%|████████████████████████████████▋        | 142/178 [06:38<01:41,  2.82s/it]"
     ]
    },
    {
     "name": "stdout",
     "output_type": "stream",
     "text": [
      "(256, 256) [0 1 2 3 4] 003.Sooty_Albatross Sooty_Albatross_0074_1221\n"
     ]
    },
    {
     "name": "stderr",
     "output_type": "stream",
     "text": [
      "\r",
      " 80%|████████████████████████████████▉        | 143/178 [06:41<01:38,  2.82s/it]"
     ]
    },
    {
     "name": "stdout",
     "output_type": "stream",
     "text": [
      "(256, 256) [0 1 2 3 4] 003.Sooty_Albatross Sooty_Albatross_0021_796339\n"
     ]
    },
    {
     "name": "stderr",
     "output_type": "stream",
     "text": [
      "\r",
      " 81%|█████████████████████████████████▏       | 144/178 [06:44<01:37,  2.87s/it]"
     ]
    },
    {
     "name": "stdout",
     "output_type": "stream",
     "text": [
      "(256, 256) [0 1 2 3 4] 003.Sooty_Albatross Sooty_Albatross_0005_796342\n"
     ]
    },
    {
     "name": "stderr",
     "output_type": "stream",
     "text": [
      "\r",
      " 81%|█████████████████████████████████▍       | 145/178 [06:47<01:34,  2.87s/it]"
     ]
    },
    {
     "name": "stdout",
     "output_type": "stream",
     "text": [
      "(256, 256) [0 1 2 3 4] 003.Sooty_Albatross Sooty_Albatross_0064_796343\n"
     ]
    },
    {
     "name": "stderr",
     "output_type": "stream",
     "text": [
      "\r",
      " 82%|█████████████████████████████████▋       | 146/178 [06:50<01:31,  2.85s/it]"
     ]
    },
    {
     "name": "stdout",
     "output_type": "stream",
     "text": [
      "(256, 256) [0 1 2 3 4] 003.Sooty_Albatross Sooty_Albatross_0042_1210\n"
     ]
    },
    {
     "name": "stderr",
     "output_type": "stream",
     "text": [
      "\r",
      " 83%|█████████████████████████████████▊       | 147/178 [06:53<01:29,  2.87s/it]"
     ]
    },
    {
     "name": "stdout",
     "output_type": "stream",
     "text": [
      "(256, 256) [0 1 2 3 4] 003.Sooty_Albatross Sooty_Albatross_0046_1211\n"
     ]
    },
    {
     "name": "stderr",
     "output_type": "stream",
     "text": [
      "\r",
      " 83%|██████████████████████████████████       | 148/178 [06:56<01:26,  2.87s/it]"
     ]
    },
    {
     "name": "stdout",
     "output_type": "stream",
     "text": [
      "(256, 256) [0 1 2 3 4] 003.Sooty_Albatross Sooty_Albatross_0017_796349\n"
     ]
    },
    {
     "name": "stderr",
     "output_type": "stream",
     "text": [
      "\r",
      " 84%|██████████████████████████████████▎      | 149/178 [06:59<01:23,  2.87s/it]"
     ]
    },
    {
     "name": "stdout",
     "output_type": "stream",
     "text": [
      "(256, 256) [0 1 2 3 4] 003.Sooty_Albatross Sooty_Albatross_0049_796350\n"
     ]
    },
    {
     "name": "stderr",
     "output_type": "stream",
     "text": [
      "\r",
      " 84%|██████████████████████████████████▌      | 150/178 [07:01<01:20,  2.86s/it]"
     ]
    },
    {
     "name": "stdout",
     "output_type": "stream",
     "text": [
      "(256, 256) [0 1 2 3 4] 003.Sooty_Albatross Sooty_Albatross_0050_796351\n"
     ]
    },
    {
     "name": "stderr",
     "output_type": "stream",
     "text": [
      "\r",
      " 85%|██████████████████████████████████▊      | 151/178 [07:04<01:17,  2.85s/it]"
     ]
    },
    {
     "name": "stdout",
     "output_type": "stream",
     "text": [
      "(256, 256) [0 1 2 3 4] 003.Sooty_Albatross Sooty_Albatross_0075_796352\n"
     ]
    },
    {
     "name": "stderr",
     "output_type": "stream",
     "text": [
      "\r",
      " 85%|███████████████████████████████████      | 152/178 [07:07<01:14,  2.85s/it]"
     ]
    },
    {
     "name": "stdout",
     "output_type": "stream",
     "text": [
      "(256, 256) [0 1 2 3 4] 003.Sooty_Albatross Sooty_Albatross_0068_796353\n"
     ]
    },
    {
     "name": "stderr",
     "output_type": "stream",
     "text": [
      "\r",
      " 86%|███████████████████████████████████▏     | 153/178 [07:10<01:11,  2.86s/it]"
     ]
    },
    {
     "name": "stdout",
     "output_type": "stream",
     "text": [
      "(256, 256) [0 1 2 3 4] 003.Sooty_Albatross Sooty_Albatross_0057_796354\n"
     ]
    },
    {
     "name": "stderr",
     "output_type": "stream",
     "text": [
      "\r",
      " 87%|███████████████████████████████████▍     | 154/178 [07:13<01:08,  2.85s/it]"
     ]
    },
    {
     "name": "stdout",
     "output_type": "stream",
     "text": [
      "(256, 256) [0 1 2 3 4] 003.Sooty_Albatross Sooty_Albatross_0010_796355\n"
     ]
    },
    {
     "name": "stderr",
     "output_type": "stream",
     "text": [
      "\r",
      " 87%|███████████████████████████████████▋     | 155/178 [07:16<01:05,  2.85s/it]"
     ]
    },
    {
     "name": "stdout",
     "output_type": "stream",
     "text": [
      "(256, 256) [0 1 2 3 4] 003.Sooty_Albatross Sooty_Albatross_0029_796357\n"
     ]
    },
    {
     "name": "stderr",
     "output_type": "stream",
     "text": [
      "\r",
      " 88%|███████████████████████████████████▉     | 156/178 [07:18<01:02,  2.84s/it]"
     ]
    },
    {
     "name": "stdout",
     "output_type": "stream",
     "text": [
      "(256, 256) [0 1 2 3 4] 003.Sooty_Albatross Sooty_Albatross_0069_796358\n"
     ]
    },
    {
     "name": "stderr",
     "output_type": "stream",
     "text": [
      "\r",
      " 88%|████████████████████████████████████▏    | 157/178 [07:21<00:59,  2.84s/it]"
     ]
    },
    {
     "name": "stdout",
     "output_type": "stream",
     "text": [
      "(256, 256) [0 1 2 3 4] 003.Sooty_Albatross Sooty_Albatross_0020_796359\n"
     ]
    },
    {
     "name": "stderr",
     "output_type": "stream",
     "text": [
      "\r",
      " 89%|████████████████████████████████████▍    | 158/178 [07:24<00:56,  2.84s/it]"
     ]
    },
    {
     "name": "stdout",
     "output_type": "stream",
     "text": [
      "(256, 256) [0 1 2 3 4] 003.Sooty_Albatross Sooty_Albatross_0058_796360\n"
     ]
    },
    {
     "name": "stderr",
     "output_type": "stream",
     "text": [
      "\r",
      " 89%|████████████████████████████████████▌    | 159/178 [07:27<00:53,  2.84s/it]"
     ]
    },
    {
     "name": "stdout",
     "output_type": "stream",
     "text": [
      "(256, 256) [0 1 2 3 4] 003.Sooty_Albatross Sooty_Albatross_0025_796361\n"
     ]
    },
    {
     "name": "stderr",
     "output_type": "stream",
     "text": [
      "\r",
      " 90%|████████████████████████████████████▊    | 160/178 [07:30<00:51,  2.86s/it]"
     ]
    },
    {
     "name": "stdout",
     "output_type": "stream",
     "text": [
      "(256, 256) [0 1 2 3 4] 003.Sooty_Albatross Sooty_Albatross_0041_796364\n"
     ]
    },
    {
     "name": "stderr",
     "output_type": "stream",
     "text": [
      "\r",
      " 90%|█████████████████████████████████████    | 161/178 [07:33<00:48,  2.86s/it]"
     ]
    },
    {
     "name": "stdout",
     "output_type": "stream",
     "text": [
      "(256, 256) [0 1 2 3 4] 003.Sooty_Albatross Sooty_Albatross_0076_796365\n"
     ]
    },
    {
     "name": "stderr",
     "output_type": "stream",
     "text": [
      "\r",
      " 91%|█████████████████████████████████████▎   | 162/178 [07:36<00:45,  2.87s/it]"
     ]
    },
    {
     "name": "stdout",
     "output_type": "stream",
     "text": [
      "(256, 256) [0 1 2 3 4] 003.Sooty_Albatross Sooty_Albatross_0004_796366\n"
     ]
    },
    {
     "name": "stderr",
     "output_type": "stream",
     "text": [
      "\r",
      " 92%|█████████████████████████████████████▌   | 163/178 [07:38<00:42,  2.86s/it]"
     ]
    },
    {
     "name": "stdout",
     "output_type": "stream",
     "text": [
      "(256, 256) [0 1 2 3 4] 003.Sooty_Albatross Sooty_Albatross_0065_796367\n"
     ]
    },
    {
     "name": "stderr",
     "output_type": "stream",
     "text": [
      "\r",
      " 92%|█████████████████████████████████████▊   | 164/178 [07:41<00:39,  2.85s/it]"
     ]
    },
    {
     "name": "stdout",
     "output_type": "stream",
     "text": [
      "(256, 256) [0 1 2 3 4] 003.Sooty_Albatross Sooty_Albatross_0072_796371\n"
     ]
    },
    {
     "name": "stderr",
     "output_type": "stream",
     "text": [
      "\r",
      " 93%|██████████████████████████████████████   | 165/178 [07:44<00:37,  2.85s/it]"
     ]
    },
    {
     "name": "stdout",
     "output_type": "stream",
     "text": [
      "(256, 256) [0 1 2 3 4] 003.Sooty_Albatross Sooty_Albatross_0007_796372\n"
     ]
    },
    {
     "name": "stderr",
     "output_type": "stream",
     "text": [
      "\r",
      " 93%|██████████████████████████████████████▏  | 166/178 [07:47<00:34,  2.84s/it]"
     ]
    },
    {
     "name": "stdout",
     "output_type": "stream",
     "text": [
      "(256, 256) [0 1 2 3 4] 003.Sooty_Albatross Sooty_Albatross_0014_796373\n"
     ]
    },
    {
     "name": "stderr",
     "output_type": "stream",
     "text": [
      "\r",
      " 94%|██████████████████████████████████████▍  | 167/178 [07:50<00:31,  2.84s/it]"
     ]
    },
    {
     "name": "stdout",
     "output_type": "stream",
     "text": [
      "(256, 256) [0 1 2 3 4] 003.Sooty_Albatross Sooty_Albatross_0051_796374\n"
     ]
    },
    {
     "name": "stderr",
     "output_type": "stream",
     "text": [
      "\r",
      " 94%|██████████████████████████████████████▋  | 168/178 [07:53<00:28,  2.84s/it]"
     ]
    },
    {
     "name": "stdout",
     "output_type": "stream",
     "text": [
      "(256, 256) [0 1 2 3 4] 003.Sooty_Albatross Sooty_Albatross_0040_796375\n"
     ]
    },
    {
     "name": "stderr",
     "output_type": "stream",
     "text": [
      "\r",
      " 95%|██████████████████████████████████████▉  | 169/178 [07:55<00:25,  2.83s/it]"
     ]
    },
    {
     "name": "stdout",
     "output_type": "stream",
     "text": [
      "(256, 256) [0 1 2 3 4] 003.Sooty_Albatross Sooty_Albatross_0067_796376\n"
     ]
    },
    {
     "name": "stderr",
     "output_type": "stream",
     "text": [
      "\r",
      " 96%|███████████████████████████████████████▏ | 170/178 [07:58<00:22,  2.85s/it]"
     ]
    },
    {
     "name": "stdout",
     "output_type": "stream",
     "text": [
      "(256, 256) [0 1 2 3 4] 003.Sooty_Albatross Sooty_Albatross_0066_796382\n"
     ]
    },
    {
     "name": "stderr",
     "output_type": "stream",
     "text": [
      "\r",
      " 96%|███████████████████████████████████████▍ | 171/178 [08:01<00:19,  2.84s/it]"
     ]
    },
    {
     "name": "stdout",
     "output_type": "stream",
     "text": [
      "(256, 256) [0 1 2 3 4] 003.Sooty_Albatross Sooty_Albatross_0036_796387\n"
     ]
    },
    {
     "name": "stderr",
     "output_type": "stream",
     "text": [
      "\r",
      " 97%|███████████████████████████████████████▌ | 172/178 [08:04<00:17,  2.85s/it]"
     ]
    },
    {
     "name": "stdout",
     "output_type": "stream",
     "text": [
      "(256, 256) [0 1 2 3] 003.Sooty_Albatross Sooty_Albatross_0079_796389\n"
     ]
    },
    {
     "name": "stderr",
     "output_type": "stream",
     "text": [
      "\r",
      " 97%|███████████████████████████████████████▊ | 173/178 [08:07<00:14,  2.85s/it]"
     ]
    },
    {
     "name": "stdout",
     "output_type": "stream",
     "text": [
      "(256, 256) [0 1 2 3 4] 003.Sooty_Albatross Sooty_Albatross_0006_796390\n"
     ]
    },
    {
     "name": "stderr",
     "output_type": "stream",
     "text": [
      "\r",
      " 98%|████████████████████████████████████████ | 174/178 [08:10<00:11,  2.85s/it]"
     ]
    },
    {
     "name": "stdout",
     "output_type": "stream",
     "text": [
      "(256, 256) [0 1 2 3 4] 003.Sooty_Albatross Sooty_Albatross_0019_796391\n"
     ]
    },
    {
     "name": "stderr",
     "output_type": "stream",
     "text": [
      "\r",
      " 98%|████████████████████████████████████████▎| 175/178 [08:13<00:08,  2.86s/it]"
     ]
    },
    {
     "name": "stdout",
     "output_type": "stream",
     "text": [
      "(256, 256) [0 1 2 3 4] 003.Sooty_Albatross Sooty_Albatross_0002_796395\n"
     ]
    },
    {
     "name": "stderr",
     "output_type": "stream",
     "text": [
      "\r",
      " 99%|████████████████████████████████████████▌| 176/178 [08:15<00:05,  2.85s/it]"
     ]
    },
    {
     "name": "stdout",
     "output_type": "stream",
     "text": [
      "(256, 256) [0 1 2 3 4] 003.Sooty_Albatross Sooty_Albatross_0022_796398\n"
     ]
    },
    {
     "name": "stderr",
     "output_type": "stream",
     "text": [
      "\r",
      " 99%|████████████████████████████████████████▊| 177/178 [08:18<00:02,  2.84s/it]"
     ]
    },
    {
     "name": "stdout",
     "output_type": "stream",
     "text": [
      "(256, 256) [0 1 2 3 4] 003.Sooty_Albatross Sooty_Albatross_0023_796401\n"
     ]
    },
    {
     "name": "stderr",
     "output_type": "stream",
     "text": [
      "100%|█████████████████████████████████████████| 178/178 [08:21<00:00,  2.82s/it]"
     ]
    },
    {
     "name": "stdout",
     "output_type": "stream",
     "text": [
      "(256, 256) [0 1 2 3 4] 003.Sooty_Albatross Sooty_Albatross_0013_796402\n"
     ]
    },
    {
     "name": "stderr",
     "output_type": "stream",
     "text": [
      "\n"
     ]
    }
   ],
   "source": [
    "for i, (input_raw, fg_mask_raw, labels, landmarks_raw, bbox_raw, file) in enumerate(tqdm(eval_loader)):\n",
    "        # to device\n",
    "#         input_raw = input_raw.cuda()\n",
    "#         landmarks_raw = landmarks_raw.cuda()\n",
    "#         bbox_raw = bbox_raw.cuda()\n",
    "#         fg_mask_raw = fg_mask_raw.cuda()\n",
    "\n",
    "        # cut the input and transform the landmark\n",
    "        inputs, fg_masks, landmarks_full, bbox = cut_borders(input_raw, fg_mask_raw, landmarks_raw, bbox_raw)\n",
    "\n",
    "        with torch.no_grad():\n",
    "\n",
    "            # generate assignment map\n",
    "            if is_scops:\n",
    "                part_name_mat = F.interpolate(model(inputs)[2], size=inputs.shape[-2:], mode='bilinear', align_corners=False)[:, 1:]\n",
    "                part_name_mat_w_bg = F.interpolate(model(inputs)[2], size=inputs.shape[-2:], mode='bilinear', align_corners=False)\n",
    "            else:\n",
    "                part_name_mat = F.interpolate(model(inputs)[2], size=inputs.shape[-2:], mode='bilinear', align_corners=False)\n",
    "                part_name_mat_w_bg = torch.cat([1-fg_masks,\n",
    "                                                fg_masks*torch.softmax(F.interpolate(model(inputs)[2], size=inputs.shape[-2:], mode='bilinear', align_corners=False), dim=1)\n",
    "                                                ], dim=1)\n",
    "            part_result = part_name_mat_w_bg.argmax(1).cpu().numpy().squeeze()\n",
    "            folder_name = file[0].split(\"/\")[0]\n",
    "            image_name = file[0].split(\"/\")[1]\n",
    "            image_name = image_name.split(\".\")[0]\n",
    "            np.save(os.path.join(\"/Users/harsh/Thesis/Code-to-compare/unsup-parts/results\", folder_name, image_name + \".npy\"), part_result)\n",
    "            print(part_result.shape, np.unique(part_result), folder_name, image_name )\n",
    "#             if True:\n",
    "#                 plt.imshow(inputs.permute(0,2,3,1).cpu().numpy().squeeze())\n",
    "#                 plt.show()\n",
    "#                 plt.imshow(fg_masks.cpu().numpy().squeeze()*50)\n",
    "#                 plt.show()\n",
    "#                 plt.imshow(part_name_mat_w_bg.argmax(1).cpu().numpy().squeeze())\n",
    "#     #                 plt.show()\n",
    "#     #                 print(landmarks_full.shape)\n",
    "#                 plt.scatter(landmarks_full[0, :, 1].detach().cpu(), landmarks_full[0, :, 2].detach().cpu(), color='red')\n",
    "#                 plt.show()\n",
    "        \n",
    "        "
   ]
  },
  {
   "cell_type": "code",
   "execution_count": 27,
   "id": "39f52df0",
   "metadata": {},
   "outputs": [
    {
     "name": "stderr",
     "output_type": "stream",
     "text": [
      "100%|████████████████████████████████████████| 178/178 [00:01<00:00, 128.95it/s]\n"
     ]
    }
   ],
   "source": [
    "image_list_001 = []\n",
    "image_list_002 = []\n",
    "image_list_003 = []\n",
    "for i, (_, _, _, _, _, file) in enumerate(tqdm(eval_loader)):\n",
    "    num = (file[0].split(\".\")[0])\n",
    "    image_name = file[0].split(\"/\")[1]\n",
    "    if num == \"001\":\n",
    "        image_list_001.append(image_name)\n",
    "    elif num == \"002\":\n",
    "        image_list_002.append(image_name)\n",
    "    else:\n",
    "        image_list_003.append(image_name)"
   ]
  },
  {
   "cell_type": "code",
   "execution_count": 32,
   "id": "ba1568a0",
   "metadata": {},
   "outputs": [
    {
     "data": {
      "text/plain": [
       "['/Users/harsh/Thesis/Code-to-compare/unsup-parts/results/003.Sooty_Albatross_image_name_list.pkl']"
      ]
     },
     "execution_count": 32,
     "metadata": {},
     "output_type": "execute_result"
    }
   ],
   "source": [
    "import joblib \n",
    "mask_path = os.path.join(\"/Users/harsh/Thesis/Code-to-compare/unsup-parts/results\")\n",
    "joblib.dump(image_list_001, os.path.join(mask_path, \"001.Black_footed_Albatross\" + \"_image_name_list.pkl\"))\n",
    "joblib.dump(image_list_002, os.path.join(mask_path, \"002.Laysan_Albatross\" + \"_image_name_list.pkl\"))\n",
    "joblib.dump(image_list_003, os.path.join(mask_path, \"003.Sooty_Albatross\" + \"_image_name_list.pkl\"))"
   ]
  },
  {
   "cell_type": "code",
   "execution_count": null,
   "id": "569b7ee5",
   "metadata": {},
   "outputs": [],
   "source": []
  },
  {
   "cell_type": "code",
   "execution_count": 8,
   "id": "32a96f1e",
   "metadata": {},
   "outputs": [],
   "source": [
    "import cv2"
   ]
  },
  {
   "cell_type": "markdown",
   "id": "47bd6b69",
   "metadata": {},
   "source": [
    "<h2> The below code is for overlay of images"
   ]
  },
  {
   "cell_type": "code",
   "execution_count": 12,
   "id": "741e9b65",
   "metadata": {},
   "outputs": [
    {
     "name": "stderr",
     "output_type": "stream",
     "text": [
      "100%|█████████████████████████████████████████| 178/178 [09:12<00:00,  3.11s/it]\n"
     ]
    }
   ],
   "source": [
    "for i, (input_raw, fg_mask_raw, labels, landmarks_raw, bbox_raw, file) in enumerate(tqdm(eval_loader)):\n",
    "        # to device\n",
    "#         input_raw = input_raw.cuda()\n",
    "#         landmarks_raw = landmarks_raw.cuda()\n",
    "#         bbox_raw = bbox_raw.cuda()\n",
    "#         fg_mask_raw = fg_mask_raw.cuda()\n",
    "\n",
    "        # cut the input and transform the landmark\n",
    "        inputs, fg_masks, landmarks_full, bbox = cut_borders(input_raw, fg_mask_raw, landmarks_raw, bbox_raw)\n",
    "\n",
    "        with torch.no_grad():\n",
    "\n",
    "            # generate assignment map\n",
    "            if is_scops:\n",
    "                part_name_mat = F.interpolate(model(inputs)[2], size=inputs.shape[-2:], mode='bilinear', align_corners=False)[:, 1:]\n",
    "                part_name_mat_w_bg = F.interpolate(model(inputs)[2], size=inputs.shape[-2:], mode='bilinear', align_corners=False)\n",
    "            else:\n",
    "                part_name_mat = F.interpolate(model(inputs)[2], size=inputs.shape[-2:], mode='bilinear', align_corners=False)\n",
    "                part_name_mat_w_bg = torch.cat([1-fg_masks,\n",
    "                                                fg_masks*torch.softmax(F.interpolate(model(inputs)[2], size=inputs.shape[-2:], mode='bilinear', align_corners=False), dim=1)\n",
    "                                                ], dim=1)\n",
    "           \n",
    "            if True:\n",
    "                part_img = part_name_mat_w_bg.argmax(1).cpu().numpy().squeeze()\n",
    "                part_mask = convert_mask_to_image(part_img)\n",
    "                ori_img = inputs.permute(0,2,3,1).cpu().numpy().squeeze()\n",
    "                ori_img = ori_img.astype('int8') + 128\n",
    "                \n",
    "                \n",
    "                folder_name = file[0].split(\"/\")[0]\n",
    "                image_name = file[0].split(\"/\")[1]\n",
    "                image_name = image_name.split(\".\")[0]\n",
    "                ori_img = cv2.imread(os.path.join('/Users/harsh/Thesis/Dataset/CUB_200_2011/images', folder_name, image_name + \".jpg\"))\n",
    "                ori_img = cv2.resize(ori_img, (256, 256))\n",
    "                overlay_img = overlay(ori_img, part_mask)\n",
    "                cv2.imwrite(os.path.join(\"/Users/harsh/Thesis/Code-to-compare/unsup-parts/overlay_results\", folder_name, image_name + \".png\"), overlay_img)\n",
    "\n",
    "#                 print(os.path.join(\"/Users/harsh/Thesis/Code-to-compare/unsup-parts/overlay_results\", folder_name, image_name + \".png\"))\n",
    "#                 plt.imshow(ori_img)\n",
    "#                 plt.show()\n",
    "#                 plt.imshow(part_mask)\n",
    "#                 plt.show()\n",
    "#                 plt.imshow(overlay_img)\n",
    "#                 plt.show()\n",
    "\n",
    "    #                 print(landmarks_full.shape)\n",
    "#                 plt.scatter(landmarks_full[0, :, 1].detach().cpu(), landmarks_full[0, :, 2].detach().cpu(), color='red')\n",
    "#                 plt.show()\n",
    "        \n",
    "        "
   ]
  },
  {
   "cell_type": "code",
   "execution_count": null,
   "id": "351aef2c",
   "metadata": {},
   "outputs": [],
   "source": []
  }
 ],
 "metadata": {
  "kernelspec": {
   "display_name": "Python 3 (ipykernel)",
   "language": "python",
   "name": "python3"
  },
  "language_info": {
   "codemirror_mode": {
    "name": "ipython",
    "version": 3
   },
   "file_extension": ".py",
   "mimetype": "text/x-python",
   "name": "python",
   "nbconvert_exporter": "python",
   "pygments_lexer": "ipython3",
   "version": "3.9.7"
  }
 },
 "nbformat": 4,
 "nbformat_minor": 5
}
